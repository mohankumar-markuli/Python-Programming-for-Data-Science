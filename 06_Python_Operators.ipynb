{
 "cells": [
  {
   "cell_type": "markdown",
   "id": "358d95e1",
   "metadata": {},
   "source": [
    "# Operators in Pyton \n",
    "mathematical : +, -, *, /, %(mod),** (exponetional calculations (power)) <br>\n",
    "relational : <, >, <=, >=, == (comparasion, equality), != (not Equal)  <br> \n",
    "logical : and, or, not                <br>\n",
    "assignment operator : =, +=, -=,*=, /=, %=  "
   ]
  },
  {
   "cell_type": "code",
   "execution_count": 2,
   "id": "e8a2f825",
   "metadata": {},
   "outputs": [
    {
     "name": "stdout",
     "output_type": "stream",
     "text": [
      "Enter First Number 12\n",
      "Enter Second Number 23\n",
      "Sum of  12.0  and  23.0 = 35.0\n",
      "sum of two numbers =  35.0\n"
     ]
    }
   ],
   "source": [
    "#input : allows user to enter the data to the variable while\n",
    "#program is running.\n",
    "# Default datatype of input method will be string\n",
    "\n",
    "a = float(input(\"Enter First Number \")) \n",
    "b = float(input(\"Enter Second Number \"))   \n",
    "c = a + b\n",
    "print(\"Sum of \", a, \" and \", b, \"=\",c)\n",
    "print(\"sum of two numbers = \",c)"
   ]
  },
  {
   "cell_type": "code",
   "execution_count": 3,
   "id": "b79a8bb8",
   "metadata": {},
   "outputs": [
    {
     "name": "stdout",
     "output_type": "stream",
     "text": [
      "Enter you name Mohan\n",
      "Welcome to Python  Mohan\n"
     ]
    }
   ],
   "source": [
    "st = input(\"Enter you name \")\n",
    "print(\"Welcome to Python \",st)"
   ]
  },
  {
   "cell_type": "code",
   "execution_count": null,
   "id": "f0459be2",
   "metadata": {},
   "outputs": [],
   "source": []
  }
 ],
 "metadata": {
  "kernelspec": {
   "display_name": "Python 3",
   "language": "python",
   "name": "python3"
  },
  "language_info": {
   "codemirror_mode": {
    "name": "ipython",
    "version": 3
   },
   "file_extension": ".py",
   "mimetype": "text/x-python",
   "name": "python",
   "nbconvert_exporter": "python",
   "pygments_lexer": "ipython3",
   "version": "3.8.8"
  }
 },
 "nbformat": 4,
 "nbformat_minor": 5
}
