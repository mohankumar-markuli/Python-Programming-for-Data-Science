{
 "cells": [
  {
   "cell_type": "markdown",
   "id": "fbe5df36",
   "metadata": {},
   "source": [
    "# Introduction"
   ]
  },
  {
   "cell_type": "markdown",
   "id": "cfbffb20",
   "metadata": {},
   "source": [
    "Guido Van Rossum <br>\n",
    "Created – 1991"
   ]
  },
  {
   "cell_type": "markdown",
   "id": "a0980fd4",
   "metadata": {},
   "source": [
    "# Type of Language"
   ]
  },
  {
   "cell_type": "markdown",
   "id": "88f1a7b0",
   "metadata": {},
   "source": [
    "General purpose programming language. <br>\n",
    "Interactive and Interpreted language. <br>\n",
    "Both structured and object oriented style of programming"
   ]
  },
  {
   "cell_type": "markdown",
   "id": "af3d08ad",
   "metadata": {},
   "source": [
    "# Advantages "
   ]
  },
  {
   "cell_type": "markdown",
   "id": "3e7166a5",
   "metadata": {},
   "source": [
    "Open Source – Registered under GPL => ( General public licence)<br>\n",
    "Freely useable and distributed even for commercial use.<br>\n"
   ]
  },
  {
   "cell_type": "markdown",
   "id": "aab3497b",
   "metadata": {},
   "source": [
    "# Learning Outcomes"
   ]
  },
  {
   "cell_type": "markdown",
   "id": "acf9a33a",
   "metadata": {},
   "source": [
    "Write business logic using Python<br>\n",
    "Create function and reuse them <br>\n",
    "Store and access group of/multiple elements using single variable name<br>\n",
    "Develop user defined functions<br>\n",
    "Organize code using modules and packages<br>\n",
    "Perform file Input/Output operations in a Python program <br>\n",
    "Handle exception in a program.<br>"
   ]
  },
  {
   "cell_type": "markdown",
   "id": "197d2e8e",
   "metadata": {},
   "source": [
    "# Important features of python"
   ]
  },
  {
   "cell_type": "markdown",
   "id": "1a768def",
   "metadata": {},
   "source": [
    "Python is open source<br>\n",
    "Python is interpreted<br>\n",
    "Python is cross platform compatible<br>\n",
    "Python is Object Oriented<br>\n",
    "Python is greater choice for new learners<br>\n",
    "Python is extensible<br>\n",
    "Python is Interactive<br>\n",
    "Database connectivity<br>"
   ]
  }
 ],
 "metadata": {
  "kernelspec": {
   "display_name": "Python 3",
   "language": "python",
   "name": "python3"
  },
  "language_info": {
   "codemirror_mode": {
    "name": "ipython",
    "version": 3
   },
   "file_extension": ".py",
   "mimetype": "text/x-python",
   "name": "python",
   "nbconvert_exporter": "python",
   "pygments_lexer": "ipython3",
   "version": "3.8.8"
  }
 },
 "nbformat": 4,
 "nbformat_minor": 5
}
