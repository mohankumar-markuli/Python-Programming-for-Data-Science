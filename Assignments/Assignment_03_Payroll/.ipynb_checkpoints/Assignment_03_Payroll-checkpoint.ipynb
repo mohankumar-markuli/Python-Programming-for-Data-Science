{
 "cells": [
  {
   "cell_type": "markdown",
   "id": "8604a033",
   "metadata": {},
   "source": [
    "<h3>Use the data in empmaster.txt departmentmaster.txt and placemaster.txt and perform the following operations</h3>\n",
    "\n",
    "empmaster : empid, empname, dno, gender, placecode, basicsalary <br>\n",
    "departmentmaster : dno, dname<br>\n",
    "placemaster : placecode, place<br>\n",
    "\n",
    "calculation:<br>\n",
    "\n",
    "1. HRA : 10% of Basic Salary<br>\n",
    "2. DA : 5% of Basic Salary<br>\n",
    "3. CCA : 5% of Basic Salary<br>\n",
    "4. GrossSalary :  Basicsalary + hra + da + cca<br>\n",
    "5. PF : 5% of Basic Salary<br>\n",
    "6. PT : 500<br>\n",
    "7. IncomeTax :\n",
    "        if salary >=50000 10% of BasicSalary<br>\n",
    "        if salary < 50000 5% of BasicSalary<br>\n",
    "8. TotalDeduction = PF + PT + IT<br>\n",
    "9. Net Salary = GrossSalary - TotalDeduction <br>\n",
    "\n",
    "Output file :<br>\n",
    "\n",
    "empid, empname, gender, department, place, basicsalary, hra,da,cca, grosssalary, pf,pt,incometax,totaldeduction,netsalary<br>\n"
   ]
  },
  {
   "cell_type": "code",
   "execution_count": 5,
   "id": "c7a367c3",
   "metadata": {},
   "outputs": [
    {
     "name": "stdout",
     "output_type": "stream",
     "text": [
      "{11: 'HR', 12: 'Technical', 13: 'Accounts', 14: 'Network', 15: 'Test'}\n",
      "{101: 'Hassan', 102: 'Bangalore', 103: 'Mysore', 104: 'Mangalore', 105: 'Shimoga'}\n"
     ]
    }
   ],
   "source": [
    "file_empMaster = open(\"empmaster.txt\")\n",
    "file_departmentMaster = open(\"departmentmaster.txt\")\n",
    "file_placeMaster = open(\"placemaster.txt\")\n",
    "\n",
    "header_empMaster = file_empMaster.readline()\n",
    "header_departmentMaster = file_departmentMaster.readline()\n",
    "header_placeMaster = file_placeMaster.readline()\n",
    "\n",
    "line_empMaster = file_empMaster.readlines()\n",
    "line_departmentMaster = file_departmentMaster.readlines()\n",
    "line_placeMaster = file_placeMaster.readlines()\n",
    "\n",
    "dict_departmentmaster = {}\n",
    "for values in line_departmentMaster:\n",
    "    values = values.strip().split(\",\")\n",
    "    key = int(values[0])\n",
    "    value = values[1]\n",
    "    if dict_departmentmaster.get(key)==None:\n",
    "        dict_departmentmaster[key]=value\n",
    "print(dict_departmentmaster)\n",
    "\n",
    "dict_placeMaster = {}\n",
    "for values in line_placeMaster:\n",
    "    values = values.strip().split(\",\")\n",
    "    key = int(values[0])\n",
    "    value = values[1]\n",
    "    if dict_placeMaster.get(key)==None:\n",
    "        dict_placeMaster[key]=value\n",
    "print(dict_placeMaster)"
   ]
  },
  {
   "cell_type": "code",
   "execution_count": 6,
   "id": "d58bc371",
   "metadata": {},
   "outputs": [],
   "source": [
    "New_list_empMaster = []\n",
    "\n",
    "def incometax(sal):\n",
    "    if sal>=50000:\n",
    "        return sal * 0.10\n",
    "    if sal<50000:\n",
    "        return sal * 0.05\n",
    "\n",
    "for value in line_empMaster:\n",
    "    Values = value.strip().split(\",\")\n",
    "    empid = int(Values[0])\n",
    "    empname = Values[1]\n",
    "    dno = int(Values[2])\n",
    "    department = dict_departmentmaster.get(dno)\n",
    "    gender = Values[3]\n",
    "    placecode = int(Values[4])\n",
    "    place = dict_placeMaster.get(placecode)\n",
    "    basic_salary = int(Values[5])\n",
    "    \n",
    "    HRA = basic_salary*0.10\n",
    "    DA = basic_salary*0.05\n",
    "    CCA = basic_salary*0.05\n",
    "    GrossSalary  = basic_salary + HRA + DA + CCA\n",
    "    \n",
    "    PF = basic_salary*0.05\n",
    "    PT = 500\n",
    "    IT = incometax(basic_salary)\n",
    "    \n",
    "    TotalDeduction = PF + PT + IT\n",
    "    Net_Salary = GrossSalary - TotalDeduction\n",
    "    \n",
    "    New_list_empMaster.append((empid,empname,department,gender,place,basic_salary,HRA,DA,CCA,GrossSalary,PF,PT,IT,TotalDeduction,Net_Salary))"
   ]
  },
  {
   "cell_type": "code",
   "execution_count": 7,
   "id": "d17c6aee",
   "metadata": {},
   "outputs": [],
   "source": [
    "output_file = open('file.txt', 'w')\n",
    "output_file.write(\"empid, empname, gender, department, place, basicsalary, hra,da,cca, grosssalary, pf,pt,incometax,totaldeduction,netsalary\" + '\\n')\n",
    "for t in New_list_empMaster:\n",
    "    line = ' '.join(str(x) for x in t)\n",
    "    output_file.write(line + '\\n')\n",
    "output_file.close()"
   ]
  },
  {
   "cell_type": "code",
   "execution_count": null,
   "id": "825b22d6",
   "metadata": {},
   "outputs": [],
   "source": []
  }
 ],
 "metadata": {
  "kernelspec": {
   "display_name": "Python 3",
   "language": "python",
   "name": "python3"
  },
  "language_info": {
   "codemirror_mode": {
    "name": "ipython",
    "version": 3
   },
   "file_extension": ".py",
   "mimetype": "text/x-python",
   "name": "python",
   "nbconvert_exporter": "python",
   "pygments_lexer": "ipython3",
   "version": "3.8.8"
  }
 },
 "nbformat": 4,
 "nbformat_minor": 5
}
