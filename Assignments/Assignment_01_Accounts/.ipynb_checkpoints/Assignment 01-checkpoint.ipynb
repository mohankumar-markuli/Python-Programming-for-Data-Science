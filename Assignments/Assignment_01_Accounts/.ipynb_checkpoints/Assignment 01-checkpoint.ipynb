{
 "cells": [
  {
   "cell_type": "markdown",
   "id": "4301065d",
   "metadata": {},
   "source": [
    "<h3>Use the data in AccountMaster.txt, AccountTransaction.txt and placemaster.txt and perform the following operations</h3>\n",
    "\n",
    "-- if the transaction type is cr add that amount to the balance<br>\n",
    "-- if the transaction type is db deduct that amount from the balance<br>\n",
    "-- after the deduction if the current balance is <1000 in comments column give message \"minimum balance not maintained\"<br>\n",
    "-- if current balance is > 1000 then in comments give the message \"Balance Maintained\"<br>\n",
    "\n",
    "=====================================================================================================================\n",
    "\n",
    "Sample output :\n",
    "\n",
    "accountNo, customername, place, gender, balance, credit, debit, currentbalance, comments\n",
    "\n",
    "=================================================================<br>\n",
    "8888,\t    lakshman,    hassan,  m,     5000,    2500,   0,       7500,         Balance Maintained<br>\n",
    "9999,           ani,     bangalore,m,    2000,     0,    1000,     1000,         Balance Maintained\n"
   ]
  },
  {
   "cell_type": "code",
   "execution_count": 3,
   "id": "daefc7e6",
   "metadata": {},
   "outputs": [
    {
     "name": "stdout",
     "output_type": "stream",
     "text": [
      "['accountNo', ' customername', ' placecode', ' gender', ' balance', 'accountno', ' amount', ' transactiontype']\n",
      "(1001, 'rama', 11, 'm', 5000.0, 1001, 2500.0, 'cr')\n",
      "(1002, 'krishan', 12, 'm', 10000.0, 1002, 8000.0, 'dr')\n",
      "(1003, 'amar', 11, 'm', 7500.0, 1003, 4000.0, 'dr')\n",
      "(1004, 'ravi', 12, 'm', 6500.0, 1004, 6000.0, 'dr')\n",
      "(1005, 'kiran', 13, 'm', 12000.0, 1005, 5000.0, 'cr')\n",
      "(1006, 'suma', 15, 'f', 25000.0, 1006, 24500.0, 'dr')\n",
      "(1007, 'reema', 14, 'f', 14000.0, 1007, 2000.0, 'cr')\n",
      "(1008, 'reshma', 15, 'f', 2500.0, 1008, 5000.0, 'cr')\n",
      "(1009, 'akash', 13, 'm', 1000.0, 1009, 500.0, 'cr')\n",
      "(1010, 'avinash', 14, 'm', 18000.0, 1010, 17500.0, 'dr')\n",
      "==========================================================\n",
      "{'placecode': ' place', 11: 'Hassan', 12: 'Bangalore', 13: 'Mysore', 14: 'Mangalore', 15: 'Shimoga'}\n"
     ]
    }
   ],
   "source": [
    "file_AccountMaster = open(\"AccountMaster.txt\")\n",
    "file_AccountTransaction = open(\"AccountTransaction.txt\")\n",
    "file_placemaster = open(\"placemaster.txt\")\n",
    "\n",
    "header_AccountMaster = file_AccountMaster.readline()\n",
    "header_AccountTransaction = file_AccountTransaction.readline()\n",
    "header_placemaster = file_placemaster.readline()\n",
    "\n",
    "list_Account = []\n",
    "print(header_AccountMaster.strip().split(\",\") + header_AccountTransaction.strip().split(\",\"))\n",
    "\n",
    "lines_AccountMaster = file_AccountMaster.readlines()\n",
    "lines_AccountTransaction = file_AccountTransaction.readlines()\n",
    "\n",
    "for Avalue,Tvalue in list(zip(lines_AccountMaster,lines_AccountTransaction)):\n",
    "    Avalue = Avalue.strip().split(\",\")\n",
    "    Tvalue = Tvalue.strip().split(\",\")\n",
    "    list_Account.append((int(Avalue[0]),Avalue[1],int(Avalue[2]),Avalue[3],float(Avalue[4]),\n",
    "                         int(Tvalue[0]),float(Tvalue[1]),Tvalue[2]))\n",
    "\n",
    "for value in list_Account:\n",
    "    print(value)\n",
    "\n",
    "print(\"==========================================================\")    \n",
    "header_value = header_placemaster.strip().split(\",\")\n",
    "dict_placemaster = {header_value[0]:header_value[1]}\n",
    "lines_placemaster = file_placemaster.readlines()\n",
    "for values in lines_placemaster:\n",
    "    values = values.strip().split(\",\")\n",
    "    key = int(values[0])\n",
    "    value = values[1]\n",
    "    if dict_placemaster.get(key)==None:\n",
    "        dict_placemaster[key]=value\n",
    "print(dict_placemaster)"
   ]
  },
  {
   "cell_type": "code",
   "execution_count": 4,
   "id": "06a8f305",
   "metadata": {},
   "outputs": [],
   "source": [
    "final_result=[]\n",
    "\n",
    "def take_comment(currentbalance):\n",
    "    if currentbalance<1000:\n",
    "        return \"minimum balance not maintained\"\n",
    "    else:\n",
    "        return \"balance maintained\"\n",
    "\n",
    "def checkcurrentbalance(balance,transactiontype,transactionamount):\n",
    "    if transactiontype == \"cr\":\n",
    "        return balance + transactionamount\n",
    "    elif transactiontype ==\"dr\":\n",
    "        return balance - transactionamount\n",
    "    else:\n",
    "        return balance\n",
    "           \n",
    "for value in list_Account:\n",
    "    Account_number = value[0]\n",
    "    name = value[1]\n",
    "    place = dict_placemaster.get(value[2])\n",
    "    gender = value[3]\n",
    "    balance = value[4]\n",
    "    transactionamount = value[-2]\n",
    "    transactiontype = value[-1]\n",
    "    \n",
    "    if transactiontype == \"cr\":\n",
    "        currentbalance = balance + transactionamount\n",
    "        credit = transactionamount\n",
    "        debit = 0\n",
    "    elif transactiontype ==\"dr\":\n",
    "        currentbalance = balance - transactionamount\n",
    "        credit = 0\n",
    "        debit = transactionamount\n",
    "        \n",
    "    comments = take_comment(currentbalance)\n",
    "    \n",
    "    final_result.append((Account_number,name,place,gender,balance,credit,debit,currentbalance,comments))"
   ]
  },
  {
   "cell_type": "code",
   "execution_count": 5,
   "id": "55344be2",
   "metadata": {},
   "outputs": [
    {
     "name": "stdout",
     "output_type": "stream",
     "text": [
      "accountNo, customername, place, gender, balance, credit, debit, currentbalance, comments\n",
      "==========================================================================================\n",
      "(1001, 'rama', 'Hassan', 'm', 5000.0, 2500.0, 0, 7500.0, 'balance maintained')\n",
      "(1002, 'krishan', 'Bangalore', 'm', 10000.0, 0, 8000.0, 2000.0, 'balance maintained')\n",
      "(1003, 'amar', 'Hassan', 'm', 7500.0, 0, 4000.0, 3500.0, 'balance maintained')\n",
      "(1004, 'ravi', 'Bangalore', 'm', 6500.0, 0, 6000.0, 500.0, 'minimum balance not maintained')\n",
      "(1005, 'kiran', 'Mysore', 'm', 12000.0, 5000.0, 0, 17000.0, 'balance maintained')\n",
      "(1006, 'suma', 'Shimoga', 'f', 25000.0, 0, 24500.0, 500.0, 'minimum balance not maintained')\n",
      "(1007, 'reema', 'Mangalore', 'f', 14000.0, 2000.0, 0, 16000.0, 'balance maintained')\n",
      "(1008, 'reshma', 'Shimoga', 'f', 2500.0, 5000.0, 0, 7500.0, 'balance maintained')\n",
      "(1009, 'akash', 'Mysore', 'm', 1000.0, 500.0, 0, 1500.0, 'balance maintained')\n",
      "(1010, 'avinash', 'Mangalore', 'm', 18000.0, 0, 17500.0, 500.0, 'minimum balance not maintained')\n"
     ]
    }
   ],
   "source": [
    "head=\"accountNo, customername, place, gender, balance, credit, debit, currentbalance, comments\"\n",
    "print(head)\n",
    "print(\"==========================================================================================\")\n",
    "for values in final_result:\n",
    "    print(values)"
   ]
  },
  {
   "cell_type": "code",
   "execution_count": 6,
   "id": "3b3bc870",
   "metadata": {},
   "outputs": [],
   "source": [
    "f = open('output.txt', 'w')\n",
    "for t in final_result:\n",
    "    line = ' '.join(str(x) for x in t)\n",
    "    f.write(line + '\\n')\n",
    "f.close()"
   ]
  },
  {
   "cell_type": "code",
   "execution_count": null,
   "id": "40227661",
   "metadata": {},
   "outputs": [],
   "source": []
  }
 ],
 "metadata": {
  "kernelspec": {
   "display_name": "Python 3",
   "language": "python",
   "name": "python3"
  },
  "language_info": {
   "codemirror_mode": {
    "name": "ipython",
    "version": 3
   },
   "file_extension": ".py",
   "mimetype": "text/x-python",
   "name": "python",
   "nbconvert_exporter": "python",
   "pygments_lexer": "ipython3",
   "version": "3.8.8"
  }
 },
 "nbformat": 4,
 "nbformat_minor": 5
}
