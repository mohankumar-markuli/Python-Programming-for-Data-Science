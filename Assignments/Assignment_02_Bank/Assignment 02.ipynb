{
 "cells": [
  {
   "cell_type": "markdown",
   "id": "6159551a",
   "metadata": {},
   "source": [
    "<h3>Use the data in BillMaster.txt and billdetails.txt and perform the following operations</h3>\n",
    "\n",
    "BillMaster : billno, Partyname, phoneno, place\n",
    "\n",
    "billdetails : billno, itemname, price, qty, amount, gst (18%), net total\n",
    "\n",
    "Each billno should have two to three items in bill details\n",
    "like that create around 5 bills.\n",
    "\n",
    "<strong>Result  :</strong><br>\n",
    "BillNo, PartyName, Phone, Place, Amount, GST, NetAmount<br>\n",
    "\n",
    "Its like a summary report, i want to know how much bills generated today and what \n",
    "is the net amount of each and ever bill.\n",
    "\n",
    "<strong>Example :</strong><br>\n",
    "BillMaster<br>\n",
    "1001,ashwath,9845946652,hassan<br>\n",
    "\n",
    "<strong>BillDetails :</strong><br>\n",
    "1001,rice,50,10,500,90,590<br>\n",
    "1001,dal,80,2,160,25,185<br>\n",
    "\n",
    "<strong>Output file  :</strong><br>\n",
    "1001,ashwath,9845846652,hassan,660,115,775"
   ]
  },
  {
   "cell_type": "code",
   "execution_count": 5,
   "id": "03923524",
   "metadata": {},
   "outputs": [
    {
     "name": "stdout",
     "output_type": "stream",
     "text": [
      "[['1001', 'rice', '500', '3', '1500', '270', '1770'], ['1001', 'juice', '45', '4', '180', '32.4', '212.4'], ['1001', 'book', '64', '25', '1600', '288', '1948'], ['1002', 'chocolate', '120', '10', '1200', '216', '1416'], ['1002', 'rice', '500', '3', '1500', '270', '1770'], ['1003', 'juice', '45', '4', '180', '32.4', '212.4'], ['1003', 'cookies', '30', '5', '150', '27', '177'], ['1003', 'book', '64', '25', '1600', '288', '1948'], ['1004', 'chocolate', '120', '10', '1200', '216', '1416'], ['1004', 'juice', '45', '4', '180', '32.4', '212.4'], ['1004', 'cookies', '30', '5', '150', '27', '177'], ['1005', 'rice', '500', '3', '1500', '270', '1770'], ['1005', 'chocolate', '120', '10', '1200', '216', '1416']]\n",
      "['billno', 'itemname', 'price', 'qty', 'amount', 'GST', 'netamount', 'Partyname', 'phoneno', 'place']\n",
      "=====================================================================================================\n",
      "['1001', 'rice', '500', '3', '1500', '270', '1770', 'Mohan', '9789456737', 'Hassan']\n",
      "['1001', 'juice', '45', '4', '180', '32.4', '212.4', 'Mohan', '9789456737', 'Hassan']\n",
      "['1001', 'book', '64', '25', '1600', '288', '1948', 'Mohan', '9789456737', 'Hassan']\n",
      "['1002', 'chocolate', '120', '10', '1200', '216', '1416', 'Kumar', '9876890645', 'Mysore']\n",
      "['1002', 'rice', '500', '3', '1500', '270', '1770', 'Kumar', '9876890645', 'Mysore']\n",
      "['1003', 'juice', '45', '4', '180', '32.4', '212.4', 'Akash', '7456782914', 'Hassan']\n",
      "['1003', 'cookies', '30', '5', '150', '27', '177', 'Akash', '7456782914', 'Hassan']\n",
      "['1003', 'book', '64', '25', '1600', '288', '1948', 'Akash', '7456782914', 'Hassan']\n",
      "['1004', 'chocolate', '120', '10', '1200', '216', '1416', 'Rithesh', '9456278913', 'Hassan']\n",
      "['1004', 'juice', '45', '4', '180', '32.4', '212.4', 'Rithesh', '9456278913', 'Hassan']\n",
      "['1004', 'cookies', '30', '5', '150', '27', '177', 'Rithesh', '9456278913', 'Hassan']\n",
      "['1005', 'rice', '500', '3', '1500', '270', '1770', 'Supi', '7563789253', 'Mysore']\n",
      "['1005', 'chocolate', '120', '10', '1200', '216', '1416', 'Supi', '7563789253', 'Mysore']\n"
     ]
    }
   ],
   "source": [
    "file_BillMaster = open(\"BillMaster.txt\")\n",
    "file_billdetails = open(\"billdetails.txt\")\n",
    "\n",
    "header_BillMaster = file_BillMaster.readline().strip().split(\",\")\n",
    "header_billdetails = file_billdetails.readline().strip().split(\",\")\n",
    "\n",
    "dict_BillMaster={}\n",
    "lines_BillMaster = file_BillMaster.readlines()\n",
    "\n",
    "for value in lines_BillMaster:\n",
    "    new_value = value.strip().split(\",\")\n",
    "    key = int(new_value[0])\n",
    "    value=new_value[1:]\n",
    "    if dict_BillMaster.get(key)==None:\n",
    "        dict_BillMaster[key]=value\n",
    "\n",
    "list_billdetails = []\n",
    "lines_billdetails = file_billdetails.readlines()\n",
    "\n",
    "for values in lines_billdetails:\n",
    "    value = values.strip().split(\",\")\n",
    "    list_billdetails.append(value)\n",
    "\n",
    "print(list_billdetails)\n",
    "print(header_billdetails + header_BillMaster[1:])\n",
    "print(\"=====================================================================================================\")\n",
    "\n",
    "result_list=[]\n",
    "for i in range(len(list_billdetails)):\n",
    "    result_list.append((list_billdetails[i] + dict_BillMaster[int(list_billdetails[i][0])]))\n",
    "\n",
    "for value in result_list:\n",
    "    print(value)"
   ]
  },
  {
   "cell_type": "code",
   "execution_count": null,
   "id": "6e2678cf",
   "metadata": {},
   "outputs": [],
   "source": []
  },
  {
   "cell_type": "code",
   "execution_count": null,
   "id": "22bab37e",
   "metadata": {},
   "outputs": [],
   "source": []
  },
  {
   "cell_type": "code",
   "execution_count": null,
   "id": "e4b23234",
   "metadata": {},
   "outputs": [],
   "source": []
  },
  {
   "cell_type": "code",
   "execution_count": null,
   "id": "db69182b",
   "metadata": {},
   "outputs": [],
   "source": []
  },
  {
   "cell_type": "code",
   "execution_count": null,
   "id": "bbd27136",
   "metadata": {},
   "outputs": [],
   "source": []
  },
  {
   "cell_type": "code",
   "execution_count": null,
   "id": "b6871c0a",
   "metadata": {},
   "outputs": [],
   "source": []
  },
  {
   "cell_type": "code",
   "execution_count": null,
   "id": "f22e69b5",
   "metadata": {},
   "outputs": [],
   "source": []
  },
  {
   "cell_type": "code",
   "execution_count": null,
   "id": "ae48e43c",
   "metadata": {},
   "outputs": [],
   "source": []
  }
 ],
 "metadata": {
  "kernelspec": {
   "display_name": "Python 3",
   "language": "python",
   "name": "python3"
  },
  "language_info": {
   "codemirror_mode": {
    "name": "ipython",
    "version": 3
   },
   "file_extension": ".py",
   "mimetype": "text/x-python",
   "name": "python",
   "nbconvert_exporter": "python",
   "pygments_lexer": "ipython3",
   "version": "3.8.8"
  }
 },
 "nbformat": 4,
 "nbformat_minor": 5
}
