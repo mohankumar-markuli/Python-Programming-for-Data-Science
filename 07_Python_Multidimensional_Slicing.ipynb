{
 "cells": [
  {
   "cell_type": "markdown",
   "id": "77e8c277",
   "metadata": {},
   "source": [
    "# Multidimensional Slicing"
   ]
  },
  {
   "cell_type": "code",
   "execution_count": 1,
   "id": "18e07f29",
   "metadata": {},
   "outputs": [
    {
     "name": "stdout",
     "output_type": "stream",
     "text": [
      "an\n"
     ]
    }
   ],
   "source": [
    "#multidimensional sclicing\n",
    "a = [\"amar\",\"akbar\",\"antony\"]\n",
    "print(a[2][:2])"
   ]
  },
  {
   "cell_type": "code",
   "execution_count": 2,
   "id": "d6fb8ede",
   "metadata": {},
   "outputs": [
    {
     "name": "stdout",
     "output_type": "stream",
     "text": [
      "(1001, 'rama', 'male')\n",
      "rama\n",
      "ra\n"
     ]
    }
   ],
   "source": [
    "#list of tuples\n",
    "\n",
    "a = [(1001,\"rama\",\"male\"),\n",
    "    (1002,\"geetha\",\"female\"),\n",
    "    (1003,\"amar\",\"male\")]\n",
    "\n",
    "#print(a)\n",
    "print(a[0])\n",
    "print(a[0][1])\n",
    "print(a[0][1][:2])"
   ]
  },
  {
   "cell_type": "code",
   "execution_count": null,
   "id": "5387123f",
   "metadata": {},
   "outputs": [],
   "source": []
  }
 ],
 "metadata": {
  "kernelspec": {
   "display_name": "Python 3",
   "language": "python",
   "name": "python3"
  },
  "language_info": {
   "codemirror_mode": {
    "name": "ipython",
    "version": 3
   },
   "file_extension": ".py",
   "mimetype": "text/x-python",
   "name": "python",
   "nbconvert_exporter": "python",
   "pygments_lexer": "ipython3",
   "version": "3.8.8"
  }
 },
 "nbformat": 4,
 "nbformat_minor": 5
}
