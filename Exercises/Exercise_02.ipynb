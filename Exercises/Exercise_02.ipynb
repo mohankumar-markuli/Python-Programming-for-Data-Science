{
 "cells": [
  {
   "cell_type": "markdown",
   "id": "c94a284a",
   "metadata": {},
   "source": [
    "# Exercise 02 \n",
    "Program to find the net price of the item,<br>\n",
    "if the item price is more than 10000 10% discount<br>\n",
    "if the item price is less then 10000 5% discount"
   ]
  },
  {
   "cell_type": "code",
   "execution_count": 2,
   "id": "05293dc5",
   "metadata": {},
   "outputs": [
    {
     "name": "stdout",
     "output_type": "stream",
     "text": [
      "Enter the product price: 12\n",
      "Enter the Quantity needed: 32\n",
      "Actual Amount :  384.0\n",
      "You got 5% discount, you pay : 364.8\n"
     ]
    }
   ],
   "source": [
    "productPrice = float(input(\"Enter the product price: \"))\n",
    "quantityPurchased = int(input(\"Enter the Quantity needed: \"))\n",
    "\n",
    "if (productPrice*quantityPurchased) > 1000:\n",
    "    pay = (productPrice*quantityPurchased) - ((productPrice*quantityPurchased)*0.10)\n",
    "    print(\"Actual Amount : \",(productPrice*quantityPurchased))\n",
    "    print(\"You got 10% discount, you pay :\",pay)\n",
    "else:\n",
    "    pay = (productPrice*quantityPurchased) - ((productPrice*quantityPurchased)*0.05)\n",
    "    print(\"Actual Amount : \",(productPrice*quantityPurchased))\n",
    "    print(\"You got 5% discount, you pay :\",pay)"
   ]
  }
 ],
 "metadata": {
  "kernelspec": {
   "display_name": "Python 3",
   "language": "python",
   "name": "python3"
  },
  "language_info": {
   "codemirror_mode": {
    "name": "ipython",
    "version": 3
   },
   "file_extension": ".py",
   "mimetype": "text/x-python",
   "name": "python",
   "nbconvert_exporter": "python",
   "pygments_lexer": "ipython3",
   "version": "3.8.8"
  }
 },
 "nbformat": 4,
 "nbformat_minor": 5
}
