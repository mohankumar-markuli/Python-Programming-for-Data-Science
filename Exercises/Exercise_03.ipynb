{
 "cells": [
  {
   "cell_type": "markdown",
   "id": "77b1538e",
   "metadata": {},
   "source": [
    "# Exercise 03\n",
    "Program to accept the gender Male/Female, <br>\n",
    "if gender is male then it should display Hi Sir otherwise Hi Madam"
   ]
  },
  {
   "cell_type": "code",
   "execution_count": 2,
   "id": "22bc2a48",
   "metadata": {},
   "outputs": [
    {
     "name": "stdout",
     "output_type": "stream",
     "text": [
      "Enter the gender : 2\n"
     ]
    }
   ],
   "source": [
    "patterns = {\"male\":(\"M\",\"m\",\"male\",\"Male\",\"MALE\"),\"female\":(\"f\",\"F\",\"Female\",\"female\",\"FEMALE\")}\n",
    "gender = input(\"Enter the gender : \")\n",
    "\n",
    "if gender in patterns[\"male\"]:\n",
    "    print(\"Hi Sir\")\n",
    "elif gender in patterns[\"female\"]:\n",
    "    print(\"Hi Madam\")"
   ]
  }
 ],
 "metadata": {
  "kernelspec": {
   "display_name": "Python 3",
   "language": "python",
   "name": "python3"
  },
  "language_info": {
   "codemirror_mode": {
    "name": "ipython",
    "version": 3
   },
   "file_extension": ".py",
   "mimetype": "text/x-python",
   "name": "python",
   "nbconvert_exporter": "python",
   "pygments_lexer": "ipython3",
   "version": "3.8.8"
  }
 },
 "nbformat": 4,
 "nbformat_minor": 5
}
