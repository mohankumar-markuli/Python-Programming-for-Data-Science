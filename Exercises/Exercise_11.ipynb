{
 "cells": [
  {
   "cell_type": "markdown",
   "id": "469159f5",
   "metadata": {},
   "source": [
    "# Exercise 11\n",
    "program to find the given number is prime number or not <br>\n",
    "(number which is divisiable by itself)"
   ]
  },
  {
   "cell_type": "code",
   "execution_count": 2,
   "id": "06ad1f37",
   "metadata": {},
   "outputs": [
    {
     "name": "stdout",
     "output_type": "stream",
     "text": [
      "Enter the number : 22\n",
      "Is not a Prime Number\n"
     ]
    }
   ],
   "source": [
    "number = int(input(\"Enter the number : \"))\n",
    "flag =0\n",
    "if number > 1:\n",
    "    for i in range(2,number):\n",
    "        if number % i == 0:\n",
    "            flag = 0\n",
    "            break\n",
    "        else:\n",
    "            flag = 1\n",
    "if flag ==0:\n",
    "    print(\"Is not a Prime Number\")\n",
    "else:\n",
    "    print(\"Is a Prime Number\")"
   ]
  },
  {
   "cell_type": "code",
   "execution_count": null,
   "id": "bfc59839",
   "metadata": {},
   "outputs": [],
   "source": []
  }
 ],
 "metadata": {
  "kernelspec": {
   "display_name": "Python 3",
   "language": "python",
   "name": "python3"
  },
  "language_info": {
   "codemirror_mode": {
    "name": "ipython",
    "version": 3
   },
   "file_extension": ".py",
   "mimetype": "text/x-python",
   "name": "python",
   "nbconvert_exporter": "python",
   "pygments_lexer": "ipython3",
   "version": "3.8.8"
  }
 },
 "nbformat": 4,
 "nbformat_minor": 5
}
