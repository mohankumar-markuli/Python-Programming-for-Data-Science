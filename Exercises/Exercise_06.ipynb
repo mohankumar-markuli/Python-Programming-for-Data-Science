{
 "cells": [
  {
   "cell_type": "markdown",
   "id": "1798efc3",
   "metadata": {},
   "source": [
    "# Exercise 06\n",
    "To find average of best of three test marks, accept the marks of three tests and find the average of two higest marks."
   ]
  },
  {
   "cell_type": "code",
   "execution_count": 2,
   "id": "e9ab1509",
   "metadata": {},
   "outputs": [
    {
     "name": "stdout",
     "output_type": "stream",
     "text": [
      "Enter test1 mark : 1\n",
      "Enter test2 mark : 1\n",
      "Enter test3 mark : 1\n",
      "Average to 3 marks :  1.0\n",
      "Average to top 2 marks :  1.0\n"
     ]
    }
   ],
   "source": [
    "# print(\"Enter the subject marks\")\n",
    "marks_list = []\n",
    "\n",
    "# test1 = marks_list.append(int(input(\"Enter test1 mark : \")))\n",
    "# test2 = marks_list.append(int(input(\"Enter test2 mark : \")))\n",
    "# test3 = marks_list.append(int(input(\"Enter test3 mark : \")))\n",
    "\n",
    "test1 = int(input(\"Enter test1 mark : \"))\n",
    "test2 = int(input(\"Enter test2 mark : \"))\n",
    "test3 = int(input(\"Enter test3 mark : \"))\n",
    "marks_list.append(test1)\n",
    "marks_list.append(test2)\n",
    "marks_list.append(test3)\n",
    "\n",
    "# Average of three marks\n",
    "tests_Sum = 0\n",
    "for mark in marks_list:\n",
    "    tests_Sum = tests_Sum + mark\n",
    "\n",
    "average = tests_Sum/len(marks_list)\n",
    "print(\"Average to 3 marks : \",average)\n",
    "\n",
    "if test1 < test2 and test1 < test3:\n",
    "    marks_list.remove(test1)\n",
    "elif test2 < test3:\n",
    "    marks_list.remove(test2)\n",
    "else:\n",
    "    marks_list.remove(test3)\n",
    "    \n",
    "# Average of top two marks\n",
    "tests_Sum = 0\n",
    "for mark in marks_list:\n",
    "    tests_Sum = tests_Sum + mark\n",
    "\n",
    "average = tests_Sum/len(marks_list)\n",
    "print(\"Average to top 2 marks : \",average)"
   ]
  },
  {
   "cell_type": "code",
   "execution_count": null,
   "id": "c4e29f10",
   "metadata": {},
   "outputs": [],
   "source": []
  }
 ],
 "metadata": {
  "kernelspec": {
   "display_name": "Python 3",
   "language": "python",
   "name": "python3"
  },
  "language_info": {
   "codemirror_mode": {
    "name": "ipython",
    "version": 3
   },
   "file_extension": ".py",
   "mimetype": "text/x-python",
   "name": "python",
   "nbconvert_exporter": "python",
   "pygments_lexer": "ipython3",
   "version": "3.8.8"
  }
 },
 "nbformat": 4,
 "nbformat_minor": 5
}
