{
 "cells": [
  {
   "cell_type": "markdown",
   "id": "fb4e5003",
   "metadata": {},
   "source": [
    "# Exercise 14\n",
    "name=['saFA','DruVha','mujaSIM','amitHa','susHeEl'.........10 names] <br>\n",
    "sal=[40000,50000,60000,55000,45000......]<br>\n",
    "dno=[11,12,13,14,15........]    <br>\n",
    "gender=['m','m','f','f','m'......]<br>\n",
    "\n",
    "(dno : department number should be 11 to 15 only)<br>\n",
    "(department name can be give according to your wish,\n",
    "11 : technical, 12 : Hr so on.)<br>\n",
    "\n",
    "1. need to transform dno to dept name. \n",
    "2. convert names to proper case\n",
    "3. transfrom m and f to male and female respectively\n",
    "\n",
    "output : Safa,40000,Technical,Female\n",
    "\n",
    "Do the following Analysis :\n",
    "----------------------------\n",
    "Find total number of Male employees<br>\n",
    "Find total number of Female employees<br>\n",
    "Find total number of employees working in each department<br>\n",
    "Find higest salaried in male<br>\n",
    "find higest salaried in female<br>"
   ]
  },
  {
   "cell_type": "code",
   "execution_count": 1,
   "id": "d525f3b1",
   "metadata": {},
   "outputs": [],
   "source": [
    "name=['saFA','DruVha','mujaSIM','amitHa','susHeEl','MohAN','kuMAr','ShuPi','RitHESh','  AkASh  ']\n",
    "sal=[40000,50000,60000,55000,45000,41000,51000,61000,56000,46000]\n",
    "dno=[11,13,14,12,15,11,12,13,14,15]\n",
    "gender=['m','m','f','f','m','m','m','f','m','m']"
   ]
  },
  {
   "cell_type": "code",
   "execution_count": 2,
   "id": "8f8ae86a",
   "metadata": {},
   "outputs": [],
   "source": [
    "# task1 : need to transform dno to dept name.\n",
    "def dept_name(dept_no):\n",
    "    if dept_no == 11:\n",
    "        dept_name = \"Hr\"\n",
    "    elif dept_no == 12:\n",
    "        dept_name = \"Devops\"\n",
    "    elif dept_no == 13:\n",
    "        dept_name  =\"Network\"\n",
    "    elif dept_no == 14:\n",
    "        dept_name  = \"Technical\"\n",
    "    elif dept_no == 15:\n",
    "        dept_name  = \"Info Systems\"\n",
    "    else:\n",
    "        dept_name  = None\n",
    "    return dept_name"
   ]
  },
  {
   "cell_type": "code",
   "execution_count": 3,
   "id": "f17469dc",
   "metadata": {},
   "outputs": [],
   "source": [
    "# task2 : convert names to proper case\n",
    "\n",
    "def convert_names(name):\n",
    "    s = name.strip()\n",
    "    fc = s[0].upper() #first character\n",
    "    rc = s[1:].lower() #remaining characters\n",
    "    new_name = fc + rc #new name\n",
    "    return new_name"
   ]
  },
  {
   "cell_type": "code",
   "execution_count": 4,
   "id": "2ae8d8d0",
   "metadata": {},
   "outputs": [],
   "source": [
    "# task3 transfrom m and f to male and female respectively\n",
    "\n",
    "def fgender(gender):\n",
    "    if gender == 'm' or gender == 'M':\n",
    "        res = \"Male\"\n",
    "    if gender == 'f' or gender == 'F':\n",
    "        res = \"Female\"\n",
    "    return res"
   ]
  },
  {
   "cell_type": "code",
   "execution_count": 5,
   "id": "aeb0a506",
   "metadata": {},
   "outputs": [
    {
     "name": "stdout",
     "output_type": "stream",
     "text": [
      "('Safa', 'Male', 'Hr', 40000)\n",
      "('Druvha', 'Male', 'Network', 50000)\n",
      "('Mujasim', 'Female', 'Technical', 60000)\n",
      "('Amitha', 'Female', 'Devops', 55000)\n",
      "('Susheel', 'Male', 'Info Systems', 45000)\n",
      "('Mohan', 'Male', 'Hr', 41000)\n",
      "('Kumar', 'Male', 'Devops', 51000)\n",
      "('Shupi', 'Female', 'Network', 61000)\n",
      "('Rithesh', 'Male', 'Technical', 56000)\n",
      "('Akash', 'Male', 'Info Systems', 46000)\n"
     ]
    }
   ],
   "source": [
    "info=[]\n",
    "for n,s,d,g in list(zip(name,sal,dno,gender)):\n",
    "    c_name = convert_names(n)\n",
    "    gen = fgender(g)\n",
    "    dept = dept_name(d)\n",
    "    info.append((c_name,gen,dept,s))\n",
    "\n",
    "for value in info:\n",
    "    print(value)"
   ]
  },
  {
   "cell_type": "code",
   "execution_count": 6,
   "id": "78832ce5",
   "metadata": {},
   "outputs": [
    {
     "name": "stdout",
     "output_type": "stream",
     "text": [
      "{'Male': 7, 'Female': 3}\n"
     ]
    }
   ],
   "source": [
    "# 01 : Find total number of Male employees\n",
    "# 02 : Find total number of Female employees\n",
    "\n",
    "res = {}\n",
    "for value in info:\n",
    "    gender = value[1]\n",
    "\n",
    "    if res.get(gender)==None:\n",
    "        res[gender]=1\n",
    "    else:\n",
    "        res[gender]+=1\n",
    "print(res)"
   ]
  },
  {
   "cell_type": "code",
   "execution_count": 7,
   "id": "1dec07e0",
   "metadata": {},
   "outputs": [
    {
     "name": "stdout",
     "output_type": "stream",
     "text": [
      "{'Hr': 2, 'Network': 2, 'Technical': 2, 'Devops': 2, 'Info Systems': 2}\n"
     ]
    }
   ],
   "source": [
    "# 03: Find total number of employees working in each department\n",
    "res = {}\n",
    "for value in info:\n",
    "    department = value[2]\n",
    "    \n",
    "    if res.get(department)==None:\n",
    "        res[department]=1\n",
    "    else:\n",
    "        res[department]+=1\n",
    "print(res)"
   ]
  },
  {
   "cell_type": "code",
   "execution_count": 8,
   "id": "e2ef170d",
   "metadata": {},
   "outputs": [
    {
     "name": "stdout",
     "output_type": "stream",
     "text": [
      "Highest salary in Male :  56000\n",
      "Highest salary in Female :  61000\n"
     ]
    }
   ],
   "source": [
    "# 04: Find higest salaried in male\n",
    "# 05: Find higest salaried in female\n",
    "\n",
    "Male_salary_list = []\n",
    "Female_salary_list = []\n",
    "for value in info:\n",
    "    if value[1]=='Male':\n",
    "        Male_salary_list.append(value[3])\n",
    "    elif value[1]=='Female':\n",
    "        Female_salary_list.append(value[3])\n",
    "\n",
    "print(\"Highest salary in Male : \",max(Male_salary_list))\n",
    "print(\"Highest salary in Female : \",max(Female_salary_list))\n",
    "            \n",
    "            "
   ]
  }
 ],
 "metadata": {
  "kernelspec": {
   "display_name": "Python 3",
   "language": "python",
   "name": "python3"
  },
  "language_info": {
   "codemirror_mode": {
    "name": "ipython",
    "version": 3
   },
   "file_extension": ".py",
   "mimetype": "text/x-python",
   "name": "python",
   "nbconvert_exporter": "python",
   "pygments_lexer": "ipython3",
   "version": "3.8.8"
  }
 },
 "nbformat": 4,
 "nbformat_minor": 5
}
