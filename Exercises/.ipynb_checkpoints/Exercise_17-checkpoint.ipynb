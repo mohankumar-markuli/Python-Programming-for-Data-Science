{
 "cells": [
  {
   "cell_type": "markdown",
   "id": "af3e342e",
   "metadata": {},
   "source": [
    "# Exercise 17\n",
    "name=['a','b','c','d','e'.........10 students] <br>\n",
    "gender=['f','m','m','f','m'.....]<br>\n",
    "s1 = [......]<br>\n",
    "s2 = [......]<br>\n",
    ":<br>\n",
    ":<br>\n",
    ":<br>\n",
    "s6=[]<br>\n",
    "Find Total,Average and Grade <br>\n",
    "please write a  function to find the grade<br>\n",
    "\n",
    "sample output : (a,90,90,90,90,90,90,540,90,FCD)<br>\n",
    "\n",
    "Do the following analysis :\n",
    "----------------------------\n",
    "1. Total number Students passed\n",
    "2. Total number male students passed\n",
    "3. Total number female students passed\n",
    "4. Percent of male students passed\n",
    "5. Percent of female students passed\n",
    "6. Highest percent of male student\n",
    "7. highest percent of female student"
   ]
  },
  {
   "cell_type": "code",
   "execution_count": 2,
   "id": "32650b40",
   "metadata": {},
   "outputs": [
    {
     "name": "stdout",
     "output_type": "stream",
     "text": [
      "('Safa', 'Male', 90, 32, 90, 32, 32, 32, 308, 51, 'F')\n",
      "('Druvha', 'Male', 88, 46, 88, 46, 46, 46, 360, 60, 'B')\n",
      "('Mujasim', 'Female', 56, 87, 56, 87, 87, 87, 460, 76, 'A')\n",
      "('Amitha', 'Female', 78, 98, 78, 98, 98, 98, 548, 91, 'S+')\n",
      "('Susheel', 'Male', 97, 90, 97, 90, 90, 90, 554, 92, 'S+')\n",
      "('Mohan', 'Male', 31, 67, 31, 67, 67, 67, 330, 55, 'F')\n",
      "('Kumar', 'Male', 90, 84, 90, 84, 84, 84, 516, 86, 'S')\n",
      "('Shupi', 'Female', 78, 56, 78, 56, 56, 56, 380, 63, 'B')\n",
      "('Rithesh', 'Male', 33, 78, 33, 78, 78, 78, 378, 63, 'F')\n",
      "('Akash', 'Male', 46, 98, 46, 98, 98, 98, 484, 80, 'S')\n"
     ]
    }
   ],
   "source": [
    "name = ['saFA','DruVha','mujaSIM','amitHa','susHeEl','MohAN','kuMAr','ShuPi','RitHESh','  AkASh  ']\n",
    "gender=['m','m','f','f','m','m','m','f','m','m']\n",
    "subject1=[90,88,56,78,97,31,90,78,33,46]\n",
    "subject2=[32,46,87,98,90,67,84,56,78,98]\n",
    "subject3=[90,88,56,78,97,31,90,78,33,46]\n",
    "subject4=[32,46,87,98,90,67,84,56,78,98]\n",
    "subject5=[90,88,56,78,97,31,90,78,33,46]\n",
    "subject6=[32,46,87,98,90,67,84,56,78,98]\n",
    "\n",
    "def convert_names(name):\n",
    "    s = name.strip()\n",
    "    fc = s[0].upper() #first character\n",
    "    rc = s[1:].lower() #remaining characters\n",
    "    new_name = fc + rc #new name\n",
    "    return new_name\n",
    "\n",
    "def fgender(gender):\n",
    "    if gender == 'm' or gender == 'M':\n",
    "        return \"Male\"\n",
    "    if gender == 'f' or gender == 'F':\n",
    "        return \"Female\"\n",
    "\n",
    "def find_result(avg_mark):\n",
    "    if avg_mark>=90.0:\n",
    "        return \"S+\"\n",
    "    elif avg_mark>=80.0:\n",
    "        return \"S\"\n",
    "    elif avg_mark>=70.0:\n",
    "        return \"A\"\n",
    "    elif avg_mark>=60.0:\n",
    "        return \"B\"\n",
    "    elif avg_mark>=50.0:\n",
    "        return \"C\"\n",
    "    elif avg_mark>=40.0:\n",
    "        return \"D\"\n",
    "    else:\n",
    "        return \"F\"\n",
    "\n",
    "def check_each_marks(s1,s2,s3,s4,s5,s6):\n",
    "    if s1<=35 or s2<=35 or s3<=35 or s4<=35 or s5<=35 or s6<=35:\n",
    "        return True\n",
    "    \n",
    "info= []\n",
    "fail_flag = False\n",
    "for n,g,s1,s2,s3,s4,s5,s6 in list(zip(name,gender,subject1,subject2,subject3,subject4,subject4,subject6)):\n",
    "    cname = convert_names(n)\n",
    "    gender = fgender(g)\n",
    "    total = s1+s2+s3+s4+s5+s6\n",
    "    avg_mark = int(total / 6)\n",
    "    fail_flag = check_each_marks(s1,s2,s3,s4,s5,s6)\n",
    "    result = None\n",
    "    if fail_flag == True:\n",
    "        result = 'F'\n",
    "    else:\n",
    "        result = find_result(avg_mark)\n",
    "        \n",
    "    info.append((cname,gender,s1,s2,s3,s4,s5,s6,total,avg_mark,result))\n",
    "    \n",
    "for value in info:\n",
    "    print(value)"
   ]
  },
  {
   "cell_type": "code",
   "execution_count": 3,
   "id": "111e37a7",
   "metadata": {},
   "outputs": [
    {
     "ename": "NameError",
     "evalue": "name 'count' is not defined",
     "output_type": "error",
     "traceback": [
      "\u001b[1;31m---------------------------------------------------------------------------\u001b[0m",
      "\u001b[1;31mNameError\u001b[0m                                 Traceback (most recent call last)",
      "\u001b[1;32m<ipython-input-3-8d4c32ebbc53>\u001b[0m in \u001b[0;36m<module>\u001b[1;34m\u001b[0m\n\u001b[0;32m      5\u001b[0m     \u001b[1;32mif\u001b[0m \u001b[0mvalue\u001b[0m\u001b[1;33m[\u001b[0m\u001b[1;33m-\u001b[0m\u001b[1;36m1\u001b[0m\u001b[1;33m]\u001b[0m\u001b[1;33m!=\u001b[0m\u001b[1;34m'F'\u001b[0m\u001b[1;33m:\u001b[0m\u001b[1;33m\u001b[0m\u001b[1;33m\u001b[0m\u001b[0m\n\u001b[0;32m      6\u001b[0m         \u001b[0mtotal_students_passed\u001b[0m\u001b[1;33m+=\u001b[0m\u001b[1;36m1\u001b[0m\u001b[1;33m\u001b[0m\u001b[1;33m\u001b[0m\u001b[0m\n\u001b[1;32m----> 7\u001b[1;33m \u001b[0mprint\u001b[0m\u001b[1;33m(\u001b[0m\u001b[0mcount\u001b[0m\u001b[1;33m)\u001b[0m\u001b[1;33m\u001b[0m\u001b[1;33m\u001b[0m\u001b[0m\n\u001b[0m",
      "\u001b[1;31mNameError\u001b[0m: name 'count' is not defined"
     ]
    }
   ],
   "source": [
    "# Total number Students passed\n",
    "\n",
    "total_students_passed = 0\n",
    "for value in info:\n",
    "    if value[-1]!='F':\n",
    "        total_students_passed+=1\n",
    "print(count)"
   ]
  },
  {
   "cell_type": "code",
   "execution_count": 4,
   "id": "504077d5",
   "metadata": {},
   "outputs": [
    {
     "name": "stdout",
     "output_type": "stream",
     "text": [
      "{'Male': 4, 'Female': 3}\n"
     ]
    }
   ],
   "source": [
    "# Total number male students passed\n",
    "# Total number female students passed\n",
    "\n",
    "res = {}\n",
    "for value in info:\n",
    "    result = value[-1]\n",
    "    gender = value[1]\n",
    "    if result != 'F':     \n",
    "        if res.get(gender)==None:\n",
    "            res[gender]=1\n",
    "        else:\n",
    "            res[gender]+=1\n",
    "print(res)"
   ]
  },
  {
   "cell_type": "code",
   "execution_count": 5,
   "id": "28289e1e",
   "metadata": {},
   "outputs": [
    {
     "name": "stdout",
     "output_type": "stream",
     "text": [
      "{'Male': 7, 'Female': 3}\n",
      "{'Male': 4, 'Female': 3}\n",
      "Percent of male students passed :  57.14285714285714 %\n",
      "Percent of male students passed :  100.0 %\n"
     ]
    }
   ],
   "source": [
    "overeall_res = {}\n",
    "passed_res = {}\n",
    "\n",
    "for value in info:\n",
    "    result = value[-1]\n",
    "    gender = value[1]     \n",
    "    if overeall_res.get(gender)==None:\n",
    "        overeall_res[gender]=1\n",
    "    else:\n",
    "        overeall_res[gender]+=1\n",
    "\n",
    "print(overeall_res)\n",
    "\n",
    "for value in info:\n",
    "    result = value[-1]\n",
    "    gender = value[1]\n",
    "    if result != 'F':     \n",
    "        if passed_res.get(gender)==None:\n",
    "            passed_res[gender]=1\n",
    "        else:\n",
    "            passed_res[gender]+=1\n",
    "\n",
    "    \n",
    "print(passed_res)\n",
    "\n",
    "print(\"Percent of male students passed : \",passed_res['Male']/overeall_res['Male'] * 100 ,\"%\")\n",
    "print(\"Percent of male students passed : \",passed_res['Female']/+overeall_res['Female'] * 100 ,\"%\")"
   ]
  },
  {
   "cell_type": "code",
   "execution_count": 6,
   "id": "6c9c721f",
   "metadata": {},
   "outputs": [
    {
     "name": "stdout",
     "output_type": "stream",
     "text": [
      "Highest percent of male student :  92\n",
      "Highest percent of female student :  91\n"
     ]
    }
   ],
   "source": [
    "Male_percents = []\n",
    "Female_percents = []\n",
    "\n",
    "for value in info:\n",
    "    if value[1]==\"Male\":\n",
    "        Male_percents.append(value[-2])\n",
    "    elif value[1]==\"Female\":\n",
    "        Female_percents.append(value[-2])\n",
    "\n",
    "print(\"Highest percent of male student : \",max(Male_percents))\n",
    "print(\"Highest percent of female student : \",max(Female_percents))"
   ]
  },
  {
   "cell_type": "code",
   "execution_count": null,
   "id": "dd3cbe9f",
   "metadata": {},
   "outputs": [],
   "source": []
  },
  {
   "cell_type": "code",
   "execution_count": null,
   "id": "5b2f2e3c",
   "metadata": {},
   "outputs": [],
   "source": []
  }
 ],
 "metadata": {
  "kernelspec": {
   "display_name": "Python 3",
   "language": "python",
   "name": "python3"
  },
  "language_info": {
   "codemirror_mode": {
    "name": "ipython",
    "version": 3
   },
   "file_extension": ".py",
   "mimetype": "text/x-python",
   "name": "python",
   "nbconvert_exporter": "python",
   "pygments_lexer": "ipython3",
   "version": "3.8.8"
  }
 },
 "nbformat": 4,
 "nbformat_minor": 5
}
