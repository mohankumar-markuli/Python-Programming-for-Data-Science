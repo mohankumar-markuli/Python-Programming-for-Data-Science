{
 "cells": [
  {
   "cell_type": "markdown",
   "id": "3916447e",
   "metadata": {},
   "source": [
    "# Exercise 12\n",
    "To generate the multiplication table of the give number <br>\n",
    "ex : Enter a number : 5<br>\n",
    "<br>\n",
    "output : <br>\n",
    "5 x 1 = 5<br>\n",
    "....<br>\n",
    "....<br>\n",
    "5 x 10 = 50<br>"
   ]
  },
  {
   "cell_type": "code",
   "execution_count": 2,
   "id": "6b4b7754",
   "metadata": {},
   "outputs": [
    {
     "name": "stdout",
     "output_type": "stream",
     "text": [
      "Enter the number : 2\n",
      "2  x  1  =  2\n",
      "2  x  2  =  4\n",
      "2  x  3  =  6\n",
      "2  x  4  =  8\n",
      "2  x  5  =  10\n",
      "2  x  6  =  12\n",
      "2  x  7  =  14\n",
      "2  x  8  =  16\n",
      "2  x  9  =  18\n",
      "2  x  10  =  20\n"
     ]
    }
   ],
   "source": [
    "number = int(input(\"Enter the number : \"))\n",
    "for i in range(1,11):\n",
    "    print(number,\" x \",i,\" = \",number*i)"
   ]
  },
  {
   "cell_type": "code",
   "execution_count": null,
   "id": "5bac94ae",
   "metadata": {},
   "outputs": [],
   "source": []
  }
 ],
 "metadata": {
  "kernelspec": {
   "display_name": "Python 3",
   "language": "python",
   "name": "python3"
  },
  "language_info": {
   "codemirror_mode": {
    "name": "ipython",
    "version": 3
   },
   "file_extension": ".py",
   "mimetype": "text/x-python",
   "name": "python",
   "nbconvert_exporter": "python",
   "pygments_lexer": "ipython3",
   "version": "3.8.8"
  }
 },
 "nbformat": 4,
 "nbformat_minor": 5
}
