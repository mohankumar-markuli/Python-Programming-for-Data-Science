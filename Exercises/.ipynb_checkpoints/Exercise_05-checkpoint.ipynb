{
 "cells": [
  {
   "cell_type": "markdown",
   "id": "6366f0de",
   "metadata": {},
   "source": [
    "# Exercise 05\n",
    "To find the total, average, grade of a student, accept marks of six subjects and find these."
   ]
  },
  {
   "cell_type": "code",
   "execution_count": null,
   "id": "bcbf1dc8",
   "metadata": {},
   "outputs": [],
   "source": [
    "print(\"Enter the subject marks\")\n",
    "marks_list = []\n",
    "\n",
    "for i in range(6):\n",
    "    marks_list.append(int(input(\"Enter subject marks : \")))\n",
    "\n",
    "fail_flag = 0\n",
    "# Calculate Total marks\n",
    "total =0\n",
    "for mark in marks_list:\n",
    "    total += mark\n",
    "    if mark<35:\n",
    "        fail_flag = 1\n",
    "print(\"Total marks : \",total)\n",
    "\n",
    "# Calculate Percentage\n",
    "percentage = (total/600) * 100\n",
    "print(\"Percentage \",percentage,\"%\")\n",
    "\n",
    "# Find Grade\n",
    "if fail_flag==1:\n",
    "    print(\"Fail\")\n",
    "else:\n",
    "    if percentage>=90.0:\n",
    "        print(\"S+ Greade\")\n",
    "    elif percentage>=80.0:\n",
    "        print(\"S Greade\")\n",
    "    elif percentage>=70.0:\n",
    "        print(\"A Greade\")\n",
    "    elif percentage>=60.0:\n",
    "        print(\"B Greade\")\n",
    "    elif percentage>=50.0:\n",
    "        print(\"C Greade\")\n",
    "    elif percentage>=40.0:\n",
    "        print(\"D Greade\")\n",
    "    else:\n",
    "        print(\"F Greade\")\n",
    "    "
   ]
  }
 ],
 "metadata": {
  "kernelspec": {
   "display_name": "Python 3",
   "language": "python",
   "name": "python3"
  },
  "language_info": {
   "codemirror_mode": {
    "name": "ipython",
    "version": 3
   },
   "file_extension": ".py",
   "mimetype": "text/x-python",
   "name": "python",
   "nbconvert_exporter": "python",
   "pygments_lexer": "ipython3",
   "version": "3.8.8"
  }
 },
 "nbformat": 4,
 "nbformat_minor": 5
}
