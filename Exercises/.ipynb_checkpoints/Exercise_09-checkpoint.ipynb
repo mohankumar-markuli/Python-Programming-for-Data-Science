{
 "cells": [
  {
   "cell_type": "markdown",
   "id": "a94f747a",
   "metadata": {},
   "source": [
    "# Exercise 09\n",
    "To find the sum of elements of the given list"
   ]
  },
  {
   "cell_type": "code",
   "execution_count": 1,
   "id": "5c16784f",
   "metadata": {},
   "outputs": [
    {
     "name": "stdout",
     "output_type": "stream",
     "text": [
      "55\n"
     ]
    }
   ],
   "source": [
    "Number_list = [1,2,3,4,5,6,7,8,9,10]\n",
    "sum_of_elements = 0\n",
    "for number in Number_list:\n",
    "    sum_of_elements+=number\n",
    "\n",
    "print(sum_of_elements)"
   ]
  },
  {
   "cell_type": "code",
   "execution_count": null,
   "id": "140bb17a",
   "metadata": {},
   "outputs": [],
   "source": []
  }
 ],
 "metadata": {
  "kernelspec": {
   "display_name": "Python 3",
   "language": "python",
   "name": "python3"
  },
  "language_info": {
   "codemirror_mode": {
    "name": "ipython",
    "version": 3
   },
   "file_extension": ".py",
   "mimetype": "text/x-python",
   "name": "python",
   "nbconvert_exporter": "python",
   "pygments_lexer": "ipython3",
   "version": "3.8.8"
  }
 },
 "nbformat": 4,
 "nbformat_minor": 5
}
