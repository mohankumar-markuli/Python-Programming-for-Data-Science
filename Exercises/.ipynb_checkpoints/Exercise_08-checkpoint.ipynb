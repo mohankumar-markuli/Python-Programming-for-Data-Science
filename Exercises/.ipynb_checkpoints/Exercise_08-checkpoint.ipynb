{
 "cells": [
  {
   "cell_type": "markdown",
   "id": "61a0f1b5",
   "metadata": {},
   "source": [
    "# Exercise 08\n",
    "Program to print only even numbers from the given list object"
   ]
  },
  {
   "cell_type": "code",
   "execution_count": 1,
   "id": "e353422c",
   "metadata": {},
   "outputs": [
    {
     "name": "stdout",
     "output_type": "stream",
     "text": [
      "2,4,6,8,10,102,2340,"
     ]
    }
   ],
   "source": [
    "Number_list = [1,2,3,4,5,6,7,8,9,10,102,203,405,213,2340]\n",
    "for number in Number_list:\n",
    "    if number % 2 ==0:\n",
    "        print(number,end=\",\")"
   ]
  },
  {
   "cell_type": "code",
   "execution_count": null,
   "id": "0a868b83",
   "metadata": {},
   "outputs": [],
   "source": []
  }
 ],
 "metadata": {
  "kernelspec": {
   "display_name": "Python 3",
   "language": "python",
   "name": "python3"
  },
  "language_info": {
   "codemirror_mode": {
    "name": "ipython",
    "version": 3
   },
   "file_extension": ".py",
   "mimetype": "text/x-python",
   "name": "python",
   "nbconvert_exporter": "python",
   "pygments_lexer": "ipython3",
   "version": "3.8.8"
  }
 },
 "nbformat": 4,
 "nbformat_minor": 5
}
