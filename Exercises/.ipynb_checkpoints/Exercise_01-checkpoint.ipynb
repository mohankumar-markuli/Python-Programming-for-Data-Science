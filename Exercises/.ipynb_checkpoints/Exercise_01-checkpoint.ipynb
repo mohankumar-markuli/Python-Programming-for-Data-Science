{
 "cells": [
  {
   "cell_type": "markdown",
   "id": "10c0461b",
   "metadata": {},
   "source": [
    "# Exercise 01\n",
    "Program to find the biggest of two numbers"
   ]
  },
  {
   "cell_type": "code",
   "execution_count": 2,
   "id": "05e24415",
   "metadata": {},
   "outputs": [
    {
     "name": "stdout",
     "output_type": "stream",
     "text": [
      "Enter num1 : 12\n",
      "Enter num2 : 23\n",
      "num2 is greatest\n"
     ]
    }
   ],
   "source": [
    "num1 = int(input(\"Enter num1 : \"))\n",
    "num2 = int(input(\"Enter num2 : \"))\n",
    "\n",
    "if num1 > num2:\n",
    "    print(\"num1 is greatest\")\n",
    "else:\n",
    "    print(\"num2 is greatest\")"
   ]
  },
  {
   "cell_type": "code",
   "execution_count": null,
   "id": "8563e591",
   "metadata": {},
   "outputs": [],
   "source": []
  }
 ],
 "metadata": {
  "kernelspec": {
   "display_name": "Python 3",
   "language": "python",
   "name": "python3"
  },
  "language_info": {
   "codemirror_mode": {
    "name": "ipython",
    "version": 3
   },
   "file_extension": ".py",
   "mimetype": "text/x-python",
   "name": "python",
   "nbconvert_exporter": "python",
   "pygments_lexer": "ipython3",
   "version": "3.8.8"
  }
 },
 "nbformat": 4,
 "nbformat_minor": 5
}
