{
 "cells": [
  {
   "cell_type": "markdown",
   "id": "96ad37c1",
   "metadata": {},
   "source": [
    "# Exercise 15\n",
    "\n",
    "name=['a','b','c','d','e'] <br>\n",
    "bal = [1000,2000,4000,6000,3500] <br>\n",
    "ttype = [cr,dr,cr,cr,dr] <br>\n",
    "tamount = [2000,500,1000,500,2000] (transcation amount) <br>\n",
    "<br>\n",
    "(a,1000,2000,cr,3000)<br>"
   ]
  },
  {
   "cell_type": "code",
   "execution_count": 9,
   "id": "f94ecefd",
   "metadata": {},
   "outputs": [],
   "source": [
    "name=['a','b','c','d','e']\n",
    "balance = [1000,2000,4000,6000,3500]\n",
    "trancation_type = ['cr','dr','cr','cr','dr']\n",
    "trancation_amount = [2000,500,1000,500,2000]"
   ]
  },
  {
   "cell_type": "code",
   "execution_count": 10,
   "id": "56547bd5",
   "metadata": {},
   "outputs": [],
   "source": [
    "def bank_passbook(balance,trancation_amount,ttype):\n",
    "    if ttype==\"cr\":\n",
    "        return balance + trancation_amount\n",
    "    elif ttype==\"dr\":\n",
    "        return balance - trancation_amount"
   ]
  },
  {
   "cell_type": "code",
   "execution_count": 11,
   "id": "df913bc9",
   "metadata": {},
   "outputs": [
    {
     "name": "stdout",
     "output_type": "stream",
     "text": [
      "('a', 1000, 'cr', 2000, 3000)\n",
      "('b', 2000, 'dr', 500, 1500)\n",
      "('c', 4000, 'cr', 1000, 5000)\n",
      "('d', 6000, 'cr', 500, 6500)\n",
      "('e', 3500, 'dr', 2000, 1500)\n"
     ]
    }
   ],
   "source": [
    "info = []\n",
    "for n,b,tt,ta in list(zip(name,balance,trancation_type,trancation_amount)):\n",
    "    info.append((n,b,tt,ta,bank_passbook(b,ta,tt)))\n",
    "\n",
    "for value in info:\n",
    "    print(value)"
   ]
  }
 ],
 "metadata": {
  "kernelspec": {
   "display_name": "Python 3",
   "language": "python",
   "name": "python3"
  },
  "language_info": {
   "codemirror_mode": {
    "name": "ipython",
    "version": 3
   },
   "file_extension": ".py",
   "mimetype": "text/x-python",
   "name": "python",
   "nbconvert_exporter": "python",
   "pygments_lexer": "ipython3",
   "version": "3.8.8"
  }
 },
 "nbformat": 4,
 "nbformat_minor": 5
}
