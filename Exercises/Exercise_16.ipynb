{
 "cells": [
  {
   "cell_type": "markdown",
   "id": "e5ff0fdc",
   "metadata": {},
   "source": [
    "# Exercise 16\n",
    "\n",
    "amt = [1000,20000,.........] <br>\n",
    "\n",
    "if amt <= 10000 gst 18%<br>\n",
    "amt > 10000 23% gst<br>\n",
    "\n",
    "sample output : (10000,18,1800,11800)<br>\n",
    "\n",
    "function to calculate gst<br>"
   ]
  },
  {
   "cell_type": "code",
   "execution_count": 12,
   "id": "3161043b",
   "metadata": {},
   "outputs": [],
   "source": [
    "amount = [100,20000,4300,25000,85000]"
   ]
  },
  {
   "cell_type": "code",
   "execution_count": 13,
   "id": "a382a59d",
   "metadata": {},
   "outputs": [],
   "source": [
    "def calculate_gst(amount):\n",
    "    info = []\n",
    "    gst_percent = 18\n",
    "    gst_amount = 0\n",
    "    total_amount = amount\n",
    "    \n",
    "    if amount <= 10000:\n",
    "        gst_amount = amount * (gst_percent/100)\n",
    "        total_amount = gst_amount + amount     \n",
    "    elif amount> 10000:\n",
    "        gst_percent = 23\n",
    "        gst_amount = amount * (gst_percent/100)\n",
    "        total_amount = gst_amount + amount\n",
    "\n",
    "    return (amount,gst_percent,gst_amount,total_amount)"
   ]
  },
  {
   "cell_type": "code",
   "execution_count": 14,
   "id": "c822a9be",
   "metadata": {},
   "outputs": [
    {
     "name": "stdout",
     "output_type": "stream",
     "text": [
      "(100, 18, 18.0, 118.0)\n",
      "(20000, 23, 4600.0, 24600.0)\n",
      "(4300, 18, 774.0, 5074.0)\n",
      "(25000, 23, 5750.0, 30750.0)\n",
      "(85000, 23, 19550.0, 104550.0)\n"
     ]
    }
   ],
   "source": [
    "info = []\n",
    "for amt in amount:\n",
    "    info.append(calculate_gst(amt))\n",
    "\n",
    "for value in info:\n",
    "    print(value)"
   ]
  }
 ],
 "metadata": {
  "kernelspec": {
   "display_name": "Python 3",
   "language": "python",
   "name": "python3"
  },
  "language_info": {
   "codemirror_mode": {
    "name": "ipython",
    "version": 3
   },
   "file_extension": ".py",
   "mimetype": "text/x-python",
   "name": "python",
   "nbconvert_exporter": "python",
   "pygments_lexer": "ipython3",
   "version": "3.8.8"
  }
 },
 "nbformat": 4,
 "nbformat_minor": 5
}
