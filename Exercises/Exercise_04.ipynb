{
 "cells": [
  {
   "cell_type": "markdown",
   "id": "800276f0",
   "metadata": {},
   "source": [
    "# Exercise 04\n",
    "To find the biggest of three number <br> a.) with logical operators <br> b.) without logical operators"
   ]
  },
  {
   "cell_type": "code",
   "execution_count": null,
   "id": "ce98dca5",
   "metadata": {},
   "outputs": [],
   "source": [
    "num1 = int(input(\"Enter num1 : \"))\n",
    "num2 = int(input(\"Enter num2 : \"))\n",
    "num3 = int(input(\"Enter num3 : \"))\n",
    "\n",
    "# with logical operators\n",
    "print(\"Using Logical Operators : \",end=\"  \")\n",
    "if num1 > num2 and num1 > num3:\n",
    "    print(\"num1 is greatest\")\n",
    "elif num2 > num3:\n",
    "    print(\"num2 is greatest\")\n",
    "else:\n",
    "    print(\"num3 is greatest\")\n",
    "    \n",
    "# without logical operators\n",
    "print(\"Without using Logical Operators : \",end=\"  \")\n",
    "if num1 > num2:\n",
    "    if num1 > num3:\n",
    "        print(\"num1 is greatest\")\n",
    "elif num2 > num3:\n",
    "    print(\"num2 is greatest\")\n",
    "else:\n",
    "    print(\"num3 is greatest\")\n",
    "    "
   ]
  }
 ],
 "metadata": {
  "kernelspec": {
   "display_name": "Python 3",
   "language": "python",
   "name": "python3"
  },
  "language_info": {
   "codemirror_mode": {
    "name": "ipython",
    "version": 3
   },
   "file_extension": ".py",
   "mimetype": "text/x-python",
   "name": "python",
   "nbconvert_exporter": "python",
   "pygments_lexer": "ipython3",
   "version": "3.8.8"
  }
 },
 "nbformat": 4,
 "nbformat_minor": 5
}
