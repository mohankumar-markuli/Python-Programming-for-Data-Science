{
 "cells": [
  {
   "cell_type": "markdown",
   "id": "ab2c87e6",
   "metadata": {},
   "source": [
    "# Exercise 10\n",
    "To find the biggest element in the given list."
   ]
  },
  {
   "cell_type": "code",
   "execution_count": 2,
   "id": "24df4e38",
   "metadata": {},
   "outputs": [
    {
     "name": "stdout",
     "output_type": "stream",
     "text": [
      "103\n"
     ]
    }
   ],
   "source": [
    "Number_list = [23,56,103,87,89,23,14,57,43,99]\n",
    "max_element = Number_list[0]\n",
    "for i in Number_list:\n",
    "    if i > max_element:\n",
    "        max_element = i\n",
    "        \n",
    "print(max_element)"
   ]
  },
  {
   "cell_type": "code",
   "execution_count": null,
   "id": "c53298c3",
   "metadata": {},
   "outputs": [],
   "source": []
  }
 ],
 "metadata": {
  "kernelspec": {
   "display_name": "Python 3",
   "language": "python",
   "name": "python3"
  },
  "language_info": {
   "codemirror_mode": {
    "name": "ipython",
    "version": 3
   },
   "file_extension": ".py",
   "mimetype": "text/x-python",
   "name": "python",
   "nbconvert_exporter": "python",
   "pygments_lexer": "ipython3",
   "version": "3.8.8"
  }
 },
 "nbformat": 4,
 "nbformat_minor": 5
}
