{
 "cells": [
  {
   "cell_type": "markdown",
   "id": "bea06ed2",
   "metadata": {},
   "source": [
    "# looping : repeating the given task \n",
    "\n",
    "for loop<br>\n",
    "A for loop is used for iterating over a sequence (that is either a list, a tuple, a dictionary, a string)."
   ]
  },
  {
   "cell_type": "code",
   "execution_count": null,
   "id": "888b42aa",
   "metadata": {},
   "outputs": [],
   "source": [
    "a = [11,121,322,433,544,655,887,778,889,110]\n",
    "for x in a:\n",
    "    print(x)"
   ]
  },
  {
   "cell_type": "code",
   "execution_count": null,
   "id": "ed334fc3",
   "metadata": {},
   "outputs": [],
   "source": [
    "#looping thru dictionary\n",
    "qua = {\"btech\":2015, \"mtech\":2018, \"mba\":2021}\n",
    "for x in qua:\n",
    "    print(qua[x])"
   ]
  },
  {
   "cell_type": "code",
   "execution_count": null,
   "id": "78145b7f",
   "metadata": {},
   "outputs": [],
   "source": [
    "#collection of names \n",
    "namelist = ['Dhoni','Virat','Rohith','Dinesh','Umesh']\n",
    "for nam in namelist:\n",
    "    print (nam)"
   ]
  },
  {
   "cell_type": "code",
   "execution_count": null,
   "id": "14cf222b",
   "metadata": {},
   "outputs": [],
   "source": [
    "#range : generates the number in the given range\n",
    "#range(starting range, ending range)\n",
    "#by default range starts from 0 \n",
    "\n",
    "#for x in range(10):\n",
    "#    print(x)\n",
    "    \n",
    "for y in range(10):\n",
    "    print('C Tathva')"
   ]
  },
  {
   "cell_type": "code",
   "execution_count": null,
   "id": "0e56f429",
   "metadata": {},
   "outputs": [],
   "source": [
    "for x in range(100,110):\n",
    "    print(x)"
   ]
  },
  {
   "cell_type": "code",
   "execution_count": null,
   "id": "c2ac76ba",
   "metadata": {},
   "outputs": [],
   "source": [
    "#break : when we want to exit from loop on \n",
    "#certian condition\n",
    "a=[1,2,3,4,5,12,6,7,8,12,10]\n",
    "for x in a:\n",
    "    if x==12:\n",
    "        break\n",
    "    print (x)"
   ]
  },
  {
   "cell_type": "code",
   "execution_count": null,
   "id": "76ff946f",
   "metadata": {},
   "outputs": [],
   "source": [
    "#continue : With the continue statement we can stop the \n",
    "#current iteration of the loop, \n",
    "#and continue with the next\n",
    "a=[15,2,3,4,5,12,6,7,8,9,10,25,45,65]\n",
    "for x in a:\n",
    "    if x<12:\n",
    "        continue\n",
    "    print (x)"
   ]
  },
  {
   "cell_type": "code",
   "execution_count": null,
   "id": "8112a3f7",
   "metadata": {},
   "outputs": [],
   "source": [
    "#while loop :\n",
    "#while loop loops thru the given task until the given condtion is true\n",
    "\n",
    "x = 1\n",
    "while x<=10:\n",
    "    print(x)\n",
    "    x+=1\n",
    "print(\"Done\")"
   ]
  },
  {
   "cell_type": "code",
   "execution_count": null,
   "id": "b83f6455",
   "metadata": {},
   "outputs": [],
   "source": [
    "x = 1\n",
    "while x<=10:\n",
    "    if x == 5:\n",
    "        break\n",
    "    print(x)\n",
    "    x+=1\n",
    "print(\"Done\")"
   ]
  },
  {
   "cell_type": "code",
   "execution_count": null,
   "id": "9d73cf0a",
   "metadata": {},
   "outputs": [],
   "source": []
  }
 ],
 "metadata": {
  "kernelspec": {
   "display_name": "Python 3",
   "language": "python",
   "name": "python3"
  },
  "language_info": {
   "codemirror_mode": {
    "name": "ipython",
    "version": 3
   },
   "file_extension": ".py",
   "mimetype": "text/x-python",
   "name": "python",
   "nbconvert_exporter": "python",
   "pygments_lexer": "ipython3",
   "version": "3.8.8"
  }
 },
 "nbformat": 4,
 "nbformat_minor": 5
}
