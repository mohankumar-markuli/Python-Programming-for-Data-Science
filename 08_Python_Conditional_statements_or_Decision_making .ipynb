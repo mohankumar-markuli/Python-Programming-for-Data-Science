{
 "cells": [
  {
   "cell_type": "markdown",
   "id": "92ac157e",
   "metadata": {},
   "source": [
    "# Conditional statements / decision making "
   ]
  },
  {
   "cell_type": "code",
   "execution_count": 1,
   "id": "19de9d55",
   "metadata": {},
   "outputs": [],
   "source": [
    "#way1. if condition:\n",
    "#           statement1\n",
    "#           statement2\n",
    "\n",
    "#way2.  if condition:\n",
    "#            statements\n",
    "#       else:\n",
    "#            statements\n",
    "\n",
    "#way3. if condition:\n",
    "#            statements\n",
    "#      elif condition:   (elif : else if)\n",
    "#            statements  \n",
    "#      elif condiion2:\n",
    "#            statements\n",
    "#      else:\n",
    "#            statements"
   ]
  },
  {
   "cell_type": "code",
   "execution_count": 2,
   "id": "287b319a",
   "metadata": {},
   "outputs": [
    {
     "name": "stdout",
     "output_type": "stream",
     "text": [
      "Enter your age 32\n",
      "General Class\n"
     ]
    }
   ],
   "source": [
    "#way1\n",
    "age = int(input(\"Enter your age \"))\n",
    "if age >= 60:\n",
    "    print(\"Senior Citizen\")\n",
    "if age < 60:\n",
    "    print(\"General Class\")  "
   ]
  },
  {
   "cell_type": "code",
   "execution_count": 3,
   "id": "dee741dd",
   "metadata": {},
   "outputs": [
    {
     "name": "stdout",
     "output_type": "stream",
     "text": [
      "Enter your age 32\n",
      "General Class\n"
     ]
    }
   ],
   "source": [
    "#way 2\n",
    "age = int(input(\"Enter your age \")) \n",
    "if age >= 60:\n",
    "    print(\"Senior citizen\") \n",
    "else:\n",
    "    print(\"General Class\")"
   ]
  },
  {
   "cell_type": "code",
   "execution_count": 4,
   "id": "a662e18d",
   "metadata": {},
   "outputs": [
    {
     "name": "stdout",
     "output_type": "stream",
     "text": [
      "Enter your age 32\n",
      "Young age\n"
     ]
    }
   ],
   "source": [
    "#if with logical operator\n",
    "age = int(input(\"Enter your age \"))\n",
    "if age >= 60:       \n",
    "    print(\"Senior citizen\")\n",
    "if age>40 and age<60: \n",
    "    print(\"Middle age\")\n",
    "if age>=20 and age<=40: \n",
    "    print(\"Young age\")\n",
    "if age>=13 and age < 20:\n",
    "    print(\"Teen age\")\n",
    "if age < 13:\n",
    "    print(\"Child\")"
   ]
  },
  {
   "cell_type": "code",
   "execution_count": 5,
   "id": "83189f63",
   "metadata": {},
   "outputs": [
    {
     "name": "stdout",
     "output_type": "stream",
     "text": [
      "Enter your age 3\n",
      "Child\n"
     ]
    }
   ],
   "source": [
    "#if and elif\n",
    "age = int(input(\"Enter your age \"))\n",
    "if age >= 60:               \n",
    "    print(\"Senior citizen\")\n",
    "elif age>=40: \n",
    "    print(\"Middle age\")\n",
    "elif age>=20:\n",
    "    print(\"Young age\")\n",
    "elif age>=13:\n",
    "    print(\"Teen age\")\n",
    "else:\n",
    "    print(\"Child\")"
   ]
  },
  {
   "cell_type": "code",
   "execution_count": null,
   "id": "7c436883",
   "metadata": {},
   "outputs": [],
   "source": []
  }
 ],
 "metadata": {
  "kernelspec": {
   "display_name": "Python 3",
   "language": "python",
   "name": "python3"
  },
  "language_info": {
   "codemirror_mode": {
    "name": "ipython",
    "version": 3
   },
   "file_extension": ".py",
   "mimetype": "text/x-python",
   "name": "python",
   "nbconvert_exporter": "python",
   "pygments_lexer": "ipython3",
   "version": "3.8.8"
  }
 },
 "nbformat": 4,
 "nbformat_minor": 5
}
