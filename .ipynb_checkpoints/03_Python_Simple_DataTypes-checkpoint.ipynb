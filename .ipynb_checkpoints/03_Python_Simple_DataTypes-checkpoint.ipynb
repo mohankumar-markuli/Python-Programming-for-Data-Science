{
 "cells": [
  {
   "cell_type": "markdown",
   "id": "2e848003",
   "metadata": {},
   "source": [
    "# Simple Data Types\n",
    "Scalar veriables - can store only one data at a time<br>\n",
    "\n",
    "syntax : \n",
    "\n",
    "variable_name = int_value <br>\n",
    "variable_name = float_value<br>\n",
    "variable_name = bool_value"
   ]
  },
  {
   "cell_type": "code",
   "execution_count": 4,
   "id": "66918844",
   "metadata": {},
   "outputs": [
    {
     "name": "stdout",
     "output_type": "stream",
     "text": [
      "a : 22 ---------> <class 'int'>\n"
     ]
    }
   ],
   "source": [
    "# int\n",
    "\n",
    "a = 10 + 12\n",
    "print(\"a :\", a ,\"--------->\",type(a))"
   ]
  },
  {
   "cell_type": "code",
   "execution_count": 1,
   "id": "2c3748ba",
   "metadata": {},
   "outputs": [
    {
     "name": "stdout",
     "output_type": "stream",
     "text": [
      "b : 62.3 ---------> <class 'float'>\n"
     ]
    }
   ],
   "source": [
    "# float\n",
    "\n",
    "b = 12.3 + 50.00\n",
    "print(\"b :\", b ,\"--------->\",type(b))"
   ]
  },
  {
   "cell_type": "code",
   "execution_count": 2,
   "id": "583edbe6",
   "metadata": {},
   "outputs": [
    {
     "name": "stdout",
     "output_type": "stream",
     "text": [
      "c : 200 ---------> <class 'int'>\n"
     ]
    }
   ],
   "source": [
    "# int\n",
    "\n",
    "c = 10 * 20\n",
    "print(\"c :\", c ,\"--------->\",type(c))"
   ]
  },
  {
   "cell_type": "code",
   "execution_count": 3,
   "id": "8d4ef9aa",
   "metadata": {},
   "outputs": [
    {
     "name": "stdout",
     "output_type": "stream",
     "text": [
      "d : 14.285714285714286 ---------> <class 'float'>\n"
     ]
    }
   ],
   "source": [
    "# float\n",
    "\n",
    "d = 100/7\n",
    "print(\"d :\", d ,\"--------->\",type(d))"
   ]
  },
  {
   "cell_type": "code",
   "execution_count": 7,
   "id": "f6063737",
   "metadata": {},
   "outputs": [
    {
     "name": "stdout",
     "output_type": "stream",
     "text": [
      "bool_value : True ---------> <class 'bool'>\n"
     ]
    }
   ],
   "source": [
    "# bool\n",
    "\n",
    "bool_value = True\n",
    "print(\"bool_value :\", bool_value ,\"--------->\",type(bool_value))"
   ]
  },
  {
   "cell_type": "code",
   "execution_count": 8,
   "id": "10bae2b1",
   "metadata": {},
   "outputs": [
    {
     "name": "stdout",
     "output_type": "stream",
     "text": [
      "bool_value : False ---------> <class 'bool'>\n"
     ]
    }
   ],
   "source": [
    "bool_value = False\n",
    "print(\"bool_value :\", bool_value ,\"--------->\",type(bool_value))"
   ]
  }
 ],
 "metadata": {
  "kernelspec": {
   "display_name": "Python 3",
   "language": "python",
   "name": "python3"
  },
  "language_info": {
   "codemirror_mode": {
    "name": "ipython",
    "version": 3
   },
   "file_extension": ".py",
   "mimetype": "text/x-python",
   "name": "python",
   "nbconvert_exporter": "python",
   "pygments_lexer": "ipython3",
   "version": "3.8.8"
  }
 },
 "nbformat": 4,
 "nbformat_minor": 5
}
