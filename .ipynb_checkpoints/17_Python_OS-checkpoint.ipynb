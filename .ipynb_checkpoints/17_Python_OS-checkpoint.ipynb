{
 "cells": [
  {
   "cell_type": "code",
   "execution_count": 24,
   "id": "68d21e8c",
   "metadata": {},
   "outputs": [],
   "source": [
    "#file management  in python using os library\n",
    "#change directory\n",
    "import os"
   ]
  },
  {
   "cell_type": "code",
   "execution_count": 25,
   "id": "6110699f",
   "metadata": {},
   "outputs": [
    {
     "data": {
      "text/plain": [
       "'C:\\\\Users\\\\Mohankumar MC\\\\Documents\\\\GitHub'"
      ]
     },
     "execution_count": 25,
     "metadata": {},
     "output_type": "execute_result"
    }
   ],
   "source": [
    "os.chdir('C:\\\\Users\\\\Mohankumar MC\\\\Documents\\\\GitHub')\n",
    "os.getcwd()"
   ]
  },
  {
   "cell_type": "code",
   "execution_count": 26,
   "id": "448d8c3c",
   "metadata": {},
   "outputs": [
    {
     "data": {
      "text/plain": [
       "['.ipynb_checkpoints',\n",
       " 'Data-Science-Immersive-SVL-Technologies',\n",
       " 'Introduction_to_python',\n",
       " 'Mohankumar-MC',\n",
       " 'test1.txt']"
      ]
     },
     "execution_count": 26,
     "metadata": {},
     "output_type": "execute_result"
    }
   ],
   "source": [
    "#to see the list of files and folders in the current directory\n",
    "os.listdir()"
   ]
  },
  {
   "cell_type": "code",
   "execution_count": 27,
   "id": "6b929c5e",
   "metadata": {},
   "outputs": [],
   "source": [
    "#to create new directory (make directory)\n",
    "os.chdir('C:\\\\Users\\\\Mohankumar MC\\\\Documents\\\\GitHub')\n",
    "os.getcwd()\n",
    "os.mkdir(\"OsTesting\")"
   ]
  },
  {
   "cell_type": "code",
   "execution_count": 28,
   "id": "93d5b596",
   "metadata": {},
   "outputs": [
    {
     "data": {
      "text/plain": [
       "['.ipynb_checkpoints',\n",
       " 'Data-Science-Immersive-SVL-Technologies',\n",
       " 'Introduction_to_python',\n",
       " 'Mohankumar-MC',\n",
       " 'OsTesting',\n",
       " 'test1.txt']"
      ]
     },
     "execution_count": 28,
     "metadata": {},
     "output_type": "execute_result"
    }
   ],
   "source": [
    "os.listdir()"
   ]
  },
  {
   "cell_type": "code",
   "execution_count": 29,
   "id": "b3f52baa",
   "metadata": {},
   "outputs": [],
   "source": [
    "os.getcwd()\n",
    "#renaming a directory\n",
    "os.rename(\"OsTesting\",\"NewTesting\")"
   ]
  },
  {
   "cell_type": "code",
   "execution_count": 30,
   "id": "3972c63a",
   "metadata": {},
   "outputs": [
    {
     "data": {
      "text/plain": [
       "['.ipynb_checkpoints',\n",
       " 'Data-Science-Immersive-SVL-Technologies',\n",
       " 'Introduction_to_python',\n",
       " 'Mohankumar-MC',\n",
       " 'NewTesting',\n",
       " 'test1.txt']"
      ]
     },
     "execution_count": 30,
     "metadata": {},
     "output_type": "execute_result"
    }
   ],
   "source": [
    "os.listdir()"
   ]
  },
  {
   "cell_type": "code",
   "execution_count": 31,
   "id": "3ea3a291",
   "metadata": {},
   "outputs": [],
   "source": [
    "#removing directory\n",
    "os.rmdir(\"NewTesting\")"
   ]
  },
  {
   "cell_type": "code",
   "execution_count": 32,
   "id": "571abc5c",
   "metadata": {},
   "outputs": [],
   "source": [
    "#removing a file\n",
    "os.chdir('C:\\\\Users\\\\Mohankumar MC\\\\Documents\\\\GitHub')\n",
    "os.getcwd()\n",
    "os.remove(\"test1.txt\")"
   ]
  },
  {
   "cell_type": "code",
   "execution_count": 33,
   "id": "e0ff5dae",
   "metadata": {},
   "outputs": [
    {
     "data": {
      "text/plain": [
       "['.ipynb_checkpoints',\n",
       " 'Data-Science-Immersive-SVL-Technologies',\n",
       " 'Introduction_to_python',\n",
       " 'Mohankumar-MC']"
      ]
     },
     "execution_count": 33,
     "metadata": {},
     "output_type": "execute_result"
    }
   ],
   "source": [
    "os.listdir()"
   ]
  }
 ],
 "metadata": {
  "kernelspec": {
   "display_name": "Python 3",
   "language": "python",
   "name": "python3"
  },
  "language_info": {
   "codemirror_mode": {
    "name": "ipython",
    "version": 3
   },
   "file_extension": ".py",
   "mimetype": "text/x-python",
   "name": "python",
   "nbconvert_exporter": "python",
   "pygments_lexer": "ipython3",
   "version": "3.8.8"
  }
 },
 "nbformat": 4,
 "nbformat_minor": 5
}
