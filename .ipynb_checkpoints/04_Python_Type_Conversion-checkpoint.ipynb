{
 "cells": [
  {
   "cell_type": "markdown",
   "id": "e9cce8d7",
   "metadata": {},
   "source": [
    "# type conversion\n",
    "\n",
    "Type Conversion is the conversion of object from one data type to another data type<br>\n",
    "    1. Implicit Type Conversion<br>\n",
    "    2. Explicit Type Conversion"
   ]
  },
  {
   "cell_type": "code",
   "execution_count": 1,
   "id": "56fbe4d1",
   "metadata": {},
   "outputs": [
    {
     "name": "stdout",
     "output_type": "stream",
     "text": [
      "<class 'float'>\n",
      "1020\n",
      "30.0\n"
     ]
    }
   ],
   "source": [
    "num1 = 10\n",
    "num2 = \"10\"\n",
    "num3 = \"20\"\n",
    "\n",
    "# result1 = num1 + num2\n",
    "\n",
    "print(type(num1/3))\n",
    "\n",
    "result1 = num2 + num3\n",
    "result2 = float(num2) + float(num3)\n",
    "\n",
    "print(result1)\n",
    "print(result2)"
   ]
  }
 ],
 "metadata": {
  "kernelspec": {
   "display_name": "Python 3",
   "language": "python",
   "name": "python3"
  },
  "language_info": {
   "codemirror_mode": {
    "name": "ipython",
    "version": 3
   },
   "file_extension": ".py",
   "mimetype": "text/x-python",
   "name": "python",
   "nbconvert_exporter": "python",
   "pygments_lexer": "ipython3",
   "version": "3.8.8"
  }
 },
 "nbformat": 4,
 "nbformat_minor": 5
}
