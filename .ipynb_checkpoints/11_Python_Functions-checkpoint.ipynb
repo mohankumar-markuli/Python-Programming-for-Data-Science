{
 "cells": [
  {
   "cell_type": "markdown",
   "id": "f29f96ec",
   "metadata": {},
   "source": [
    "# Functions \n",
    "(set of insturctions or a small program to do a specific task stored under a name) <br>\n",
    "\n",
    "There are two types of functions in python <br>\n",
    "\n",
    "1. Library function (builtin function)\n",
    "2. User defined functions (UDFs)\n",
    "\n",
    "advantages of function : reusability, modularization and easy maintaince of code.<br>\n",
    "\n",
    "builtin functions/library fucntion in python : (Functions supplied by the manufacturer/developer)"
   ]
  },
  {
   "cell_type": "code",
   "execution_count": 2,
   "id": "5e8f3cea",
   "metadata": {},
   "outputs": [
    {
     "name": "stdout",
     "output_type": "stream",
     "text": [
      "19\n",
      "3\n",
      "30\n",
      "61\n",
      "6\n",
      "8\n",
      "<class 'int'>\n",
      "<class 'list'>\n",
      "10.25\n",
      "<class 'float'>\n",
      "10.166666666666666\n"
     ]
    }
   ],
   "source": [
    "print(abs(10-29)) # returns the absolute of a number\n",
    "\n",
    "a = [10,30,8,6,3,4]\n",
    "print(min(a)) #returns the minimum value in the given list\n",
    "print(max(a)) #returns the max value in the given list\n",
    "print(sum(a)) #returns the sum all elements in the given list\n",
    "print(len(a)) #returns the number of elements present in the \n",
    "#list or number of character present in a string\n",
    "print(len(\"computer\"))\n",
    "\n",
    "x = 10\n",
    "print (type(x)) #returns the data type of a variable\n",
    "print (type(a))\n",
    "y = 10.25\n",
    "print(y)\n",
    "print(type(y))\n",
    "\n",
    "print(sum(a)/len(a))"
   ]
  },
  {
   "cell_type": "markdown",
   "id": "f858e2b4",
   "metadata": {},
   "source": [
    "#  strip() -  upper()  -  lower()\n",
    "<br>\n",
    "\n",
    "1. strip() : removes leading space and trail space from the given string \n",
    "2. upper() : converts characters to upper case\n",
    "3. lower() : converts characters to lower case "
   ]
  },
  {
   "cell_type": "code",
   "execution_count": 5,
   "id": "66574416",
   "metadata": {},
   "outputs": [
    {
     "name": "stdout",
     "output_type": "stream",
     "text": [
      " COMPUTER  \n",
      " computer  \n",
      "11\n",
      "8\n"
     ]
    }
   ],
   "source": [
    "a = \" compuTeR  \" \n",
    "print(a.upper())\n",
    "print(a.lower())\n",
    "print(len(a))\n",
    "print(len(a.strip()))"
   ]
  },
  {
   "cell_type": "markdown",
   "id": "09fae02d",
   "metadata": {},
   "source": [
    "# capitalize() \n",
    "\n",
    "This method converts first character of a string to uppercase letter and remaining character to lower case"
   ]
  },
  {
   "cell_type": "code",
   "execution_count": 7,
   "id": "88b186ce",
   "metadata": {},
   "outputs": [
    {
     "name": "stdout",
     "output_type": "stream",
     "text": [
      "svl TechnoLogieS\n",
      "Svl technologies\n"
     ]
    }
   ],
   "source": [
    "nam = \"svl TechnoLogieS\"\n",
    "cname = nam.capitalize()\n",
    "print(nam)\n",
    "print(cname)"
   ]
  },
  {
   "cell_type": "markdown",
   "id": "c17c0c08",
   "metadata": {},
   "source": [
    "# center()\n",
    "\n",
    "This method returns a string which is padded with the specified character."
   ]
  },
  {
   "cell_type": "code",
   "execution_count": 15,
   "id": "85d75bdb",
   "metadata": {},
   "outputs": [
    {
     "name": "stdout",
     "output_type": "stream",
     "text": [
      "Centered String:                  I love programming                \n"
     ]
    }
   ],
   "source": [
    "mystr = \"I love programming\"\n",
    "new_string = mystr.center(50)\n",
    "print(\"Centered String: \", new_string)"
   ]
  },
  {
   "cell_type": "code",
   "execution_count": 16,
   "id": "b6abd3a3",
   "metadata": {},
   "outputs": [
    {
     "name": "stdout",
     "output_type": "stream",
     "text": [
      "Centered String:  ****************I love programming****************\n"
     ]
    }
   ],
   "source": [
    "new_string = mystr.center(50,\"*\")\n",
    "print(\"Centered String: \", new_string)"
   ]
  },
  {
   "cell_type": "markdown",
   "id": "55d6dbcf",
   "metadata": {},
   "source": [
    "# count() \n",
    "\n",
    "This method only requires a single parameter for execution, it also has two optional parameters: start and end"
   ]
  },
  {
   "cell_type": "code",
   "execution_count": 17,
   "id": "57776794",
   "metadata": {},
   "outputs": [
    {
     "name": "stdout",
     "output_type": "stream",
     "text": [
      "The count is: 2\n"
     ]
    }
   ],
   "source": [
    "mystr = \"I Love programmig and I love python\"\n",
    "searchstr = \"I\"\n",
    "\n",
    "count = mystr.count(searchstr)\n",
    "\n",
    "print(\"The count is:\", count)"
   ]
  },
  {
   "cell_type": "markdown",
   "id": "b648e216",
   "metadata": {},
   "source": [
    "# sort()\n",
    "\n",
    "arranges the list elements in ascending order or descending order. <br>\n",
    "by default : ascending order "
   ]
  },
  {
   "cell_type": "code",
   "execution_count": 19,
   "id": "7d7ed536",
   "metadata": {},
   "outputs": [
    {
     "name": "stdout",
     "output_type": "stream",
     "text": [
      "[10, 12, 16, 7, 9, 3, 4, 6, 5, 1]\n",
      "[1, 3, 4, 5, 6, 7, 9, 10, 12, 16]\n",
      "[16, 12, 10, 9, 7, 6, 5, 4, 3, 1]\n"
     ]
    }
   ],
   "source": [
    "#(returns the sorted list in the given order)\n",
    "a = [10,12,16,7,9,3,4,6,5,1]\n",
    "print(a)\n",
    "\n",
    "a.sort() # sort ascending order\n",
    "print(a)\n",
    "\n",
    "a.sort(reverse = True) # descending order\n",
    "print(a)"
   ]
  },
  {
   "cell_type": "code",
   "execution_count": 20,
   "id": "c3254810",
   "metadata": {},
   "outputs": [
    {
     "name": "stdout",
     "output_type": "stream",
     "text": [
      "[('Amar', 26, 6), ('Krisha', 40, 5.5), ('Ram', 28, 5.6)]\n"
     ]
    }
   ],
   "source": [
    "info = [('Ram',28,5.6),('Krisha',40,5.5),('Amar',26,6)]\n",
    "info.sort()\n",
    "print (info)"
   ]
  },
  {
   "cell_type": "code",
   "execution_count": 21,
   "id": "7fef148d",
   "metadata": {},
   "outputs": [],
   "source": [
    "def sortkey(x):\n",
    "    return x[1]"
   ]
  },
  {
   "cell_type": "code",
   "execution_count": 22,
   "id": "991d3c45",
   "metadata": {},
   "outputs": [
    {
     "name": "stdout",
     "output_type": "stream",
     "text": [
      "[('Amar', 26, 6), ('Ram', 28, 5.6), ('Krisha', 40, 5.5)]\n",
      "[('Krisha', 40, 5.5), ('Ram', 28, 5.6), ('Amar', 26, 6)]\n"
     ]
    }
   ],
   "source": [
    "info.sort(key = sortkey)\n",
    "print (info)\n",
    "\n",
    "info.sort(key = sortkey, reverse=True)\n",
    "print(info)"
   ]
  },
  {
   "cell_type": "markdown",
   "id": "34d3969c",
   "metadata": {},
   "source": [
    "# udf  (user defined functions)\n",
    "\n",
    "defining function in python :<br><br>\n",
    "    def function_name(paramaters):  (paramanter : input for the function)\n",
    "<pre>        statements</pre>   \n",
    "<pre>        return value</pre>\n",
    "return value : result sent by the function<br>"
   ]
  },
  {
   "cell_type": "code",
   "execution_count": 24,
   "id": "d9edb22a",
   "metadata": {},
   "outputs": [],
   "source": [
    "#function to add two numbers\n",
    "def fadd(x,y):\n",
    "    s = x + y\n",
    "    return s"
   ]
  },
  {
   "cell_type": "code",
   "execution_count": 25,
   "id": "cd352745",
   "metadata": {},
   "outputs": [
    {
     "name": "stdout",
     "output_type": "stream",
     "text": [
      "120\n"
     ]
    }
   ],
   "source": [
    "a = 20\n",
    "b = 100\n",
    "c = fadd(a,b)\n",
    "print(c)"
   ]
  },
  {
   "cell_type": "code",
   "execution_count": 26,
   "id": "63eefeee",
   "metadata": {},
   "outputs": [],
   "source": [
    "#function to convert the given string into proper case\n",
    "\n",
    "def fupper(s):\n",
    "    s=s.strip()     #s = \" comPutEr \"\n",
    "    fc=s[0].upper()  #fc = \"C\"\n",
    "    rc=s[1:].lower() #rc = \"omputer\"\n",
    "    newstring=fc+rc  #newstring = Computer #adding/joining of two string variables : concatenation\n",
    "    return newstring"
   ]
  },
  {
   "cell_type": "code",
   "execution_count": 27,
   "id": "3451f3e7",
   "metadata": {},
   "outputs": [
    {
     "name": "stdout",
     "output_type": "stream",
     "text": [
      " comPuteR \n",
      "10\n",
      "Computer\n",
      "8\n"
     ]
    }
   ],
   "source": [
    "#using fupper function:\n",
    "\n",
    "nam =\" comPuteR \"\n",
    "print (nam)\n",
    "print(len(nam))\n",
    "mname = fupper(nam)\n",
    "print(mname)\n",
    "print(len(mname))"
   ]
  },
  {
   "cell_type": "code",
   "execution_count": 28,
   "id": "1dc677f6",
   "metadata": {},
   "outputs": [
    {
     "name": "stdout",
     "output_type": "stream",
     "text": [
      "[' rama ', ' krishna ', 'gopal', ' amar ', ' kiran ']\n",
      "['Rama', 'Krishna', 'Gopal', 'Amar', 'Kiran']\n"
     ]
    }
   ],
   "source": [
    "a = [' rama ', ' krishna ', 'gopal', ' amar ', ' kiran ']\n",
    "nlist = []\n",
    "for v in a:\n",
    "    na = fupper(v)\n",
    "    nlist.append(na)\n",
    "print(a)\n",
    "print (nlist)"
   ]
  },
  {
   "cell_type": "code",
   "execution_count": 29,
   "id": "2c99fda8",
   "metadata": {},
   "outputs": [],
   "source": [
    "#fgender function to transform m : male f : female\n",
    "\n",
    "def fgender(gender):\n",
    "    if gender == 'm' or gender == 'M':\n",
    "        res = \"Male\"\n",
    "    if gender == 'f' or gender == 'F':\n",
    "        res = \"Female\"\n",
    "    return res"
   ]
  },
  {
   "cell_type": "code",
   "execution_count": 30,
   "id": "b2185ab8",
   "metadata": {},
   "outputs": [
    {
     "name": "stdout",
     "output_type": "stream",
     "text": [
      "('Amar', 'Male', 11, 40000)\n",
      "('Barath', 'Male', 12, 50000)\n",
      "('Chitra', 'Female', 13, 60000)\n",
      "('Deeksha', 'Female', 14, 55000)\n",
      "('Eshwar', 'Male', 15, 45000)\n"
     ]
    }
   ],
   "source": [
    "name=['amar','barath','chitra','deeksha','eshwar']\n",
    "sal=[40000,50000,60000,55000,45000]\n",
    "dno=[11,12,13,14,15]\n",
    "gender=['m','m','f','f','m']\n",
    "info=[]\n",
    "for n,s,d,g in list(zip(name,sal,dno,gender)):\n",
    "    mname = fupper(n)\n",
    "    gen = fgender(g)\n",
    "    info.append((mname,gen,d,s))\n",
    "#print(info)\n",
    "for v in info:\n",
    "    print(v)"
   ]
  },
  {
   "cell_type": "code",
   "execution_count": null,
   "id": "cad9aa3b",
   "metadata": {},
   "outputs": [],
   "source": []
  }
 ],
 "metadata": {
  "kernelspec": {
   "display_name": "Python 3",
   "language": "python",
   "name": "python3"
  },
  "language_info": {
   "codemirror_mode": {
    "name": "ipython",
    "version": 3
   },
   "file_extension": ".py",
   "mimetype": "text/x-python",
   "name": "python",
   "nbconvert_exporter": "python",
   "pygments_lexer": "ipython3",
   "version": "3.8.8"
  }
 },
 "nbformat": 4,
 "nbformat_minor": 5
}
