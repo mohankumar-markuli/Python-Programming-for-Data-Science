{
 "cells": [
  {
   "cell_type": "markdown",
   "id": "0fa24999",
   "metadata": {},
   "source": [
    "# File Handling\n",
    "\n",
    "The read() method returns the specified number of bytes from the file. <br>\n",
    "Default is -1 which means the whole file.<br>\n",
    "\n",
    "readline : read a line from the given file (usually a line is terminated by \\n)<br>\n",
    "\n",
    "readlines : reads all the data from the file and returns a list object<br>\n",
    "means data are stored in list.<br>\n",
    "\n",
    "by default file will be opened in Read mode \"r\"<br><br>\n",
    "fileobj = open(\"filepath/samplefile.txt\",mode)<br>"
   ]
  },
  {
   "cell_type": "code",
   "execution_count": 25,
   "id": "1725bd50",
   "metadata": {},
   "outputs": [
    {
     "name": "stdout",
     "output_type": "stream",
     "text": [
      "Data in line_1\n",
      "Data in line_2\n",
      "Data in line_3\n",
      "Data in line_4\n",
      "59\n"
     ]
    }
   ],
   "source": [
    "f=open('Demo1_lines.txt')\n",
    "\n",
    "data=f.read()\n",
    "# data=f.read(200)\n",
    "print(data)\n",
    "print(len(data))\n",
    "\n",
    "# data=f.readline()\n",
    "# print(data)\n",
    "# data = f.readline()\n",
    "# print(data)\n",
    "\n",
    "# data=f.readlines()\n",
    "# print(data)\n",
    "# print(\"******************************************************\")\n",
    "# print(data[0])\n",
    "# f.close()"
   ]
  },
  {
   "cell_type": "code",
   "execution_count": 45,
   "id": "f8103b4a",
   "metadata": {},
   "outputs": [
    {
     "name": "stdout",
     "output_type": "stream",
     "text": [
      "Data \n",
      "in line_1\n",
      "\n",
      "Data in\n",
      " line_2\n",
      "Data in line_3\n",
      "Data in line_4\n",
      "**************************\n",
      "\n"
     ]
    }
   ],
   "source": [
    "f=open('Demo1_lines.txt')\n",
    "print(f.read(5))\n",
    "print(f.readline())\n",
    "print(f.read(7))\n",
    "print(f.read())\n",
    "print(\"**************************\")\n",
    "print(f.read())\n",
    "f.close()"
   ]
  },
  {
   "cell_type": "markdown",
   "id": "43d0c823",
   "metadata": {},
   "source": [
    "# method - tell()"
   ]
  },
  {
   "cell_type": "code",
   "execution_count": 26,
   "id": "76419e2f",
   "metadata": {},
   "outputs": [
    {
     "name": "stdout",
     "output_type": "stream",
     "text": [
      "0\n",
      "Data \n",
      "5\n"
     ]
    }
   ],
   "source": [
    "#Python file method tell() returns the current position of the \n",
    "#file read/write pointer within the file.\n",
    "\n",
    "f=open('Demo1_lines.txt')\n",
    "print(f.tell())\n",
    "print(f.read(5))\n",
    "print(f.tell())\n",
    "f.close()"
   ]
  },
  {
   "cell_type": "markdown",
   "id": "e6f4eb10",
   "metadata": {},
   "source": [
    "# method - seek()"
   ]
  },
  {
   "cell_type": "code",
   "execution_count": 28,
   "id": "f3c656c3",
   "metadata": {},
   "outputs": [
    {
     "name": "stdout",
     "output_type": "stream",
     "text": [
      "Data in line_1\n",
      "Data in line_2\n",
      "Data in line_3\n",
      "Data in line_4\n",
      "-----------------\n",
      "ta in line_1\n",
      "Data in line_2\n",
      "Data in line_3\n",
      "Data in line_4\n"
     ]
    }
   ],
   "source": [
    "#The seek() method sets the current file position in a file stream.\n",
    "\n",
    "f=open('Demo1_lines.txt')\n",
    "print(f.read())\n",
    "f.seek(2)\n",
    "print('-----------------')\n",
    "print(f.read())\n",
    "f.close()"
   ]
  },
  {
   "cell_type": "code",
   "execution_count": 29,
   "id": "42170935",
   "metadata": {},
   "outputs": [
    {
     "name": "stdout",
     "output_type": "stream",
     "text": [
      "\"id\",\"name\",\"salary\",\"gender\",\"dno\"\n",
      "\n",
      "101,amar,50000,m,11\n",
      "\n",
      "102,kiran,45000,f,12\n",
      "\n"
     ]
    }
   ],
   "source": [
    "fileobj=open(\"Demo2_EmpData.txt\")\n",
    "line1=fileobj.readline()\n",
    "line2=fileobj.readline()\n",
    "line3=fileobj.readline()\n",
    "print(line1)\n",
    "print(line2)\n",
    "print(line3)"
   ]
  },
  {
   "cell_type": "code",
   "execution_count": 18,
   "id": "4a1ac7dd",
   "metadata": {},
   "outputs": [
    {
     "name": "stdout",
     "output_type": "stream",
     "text": [
      "['\"id\",\"name\",\"salary\",\"gender\",\"dno\"\\n', '101,amar,50000,m,11\\n', '102,kiran,45000,f,12\\n', '103,ankita,65000,f,11\\n', '104,ravi,45000,m,11\\n', '105,Suresh,55000,m,12\\n', '106,Rama,75000,f,11\\n', '107,Krishna,60000,m,11\\n', '108,Karshima,35000,f,11\\n', '109,Rani,90000,f,12\\n', '110,Chandan,25000,m,13\\n', '111,Reena,65000,f,14\\n', '112,Veni,10000,f,14']\n",
      "-------------------------\n",
      "\"id\",\"name\",\"salary\",\"gender\",\"dno\"\n",
      "\n",
      "101,amar,50000,m,11\n",
      "\n",
      "102,kiran,45000,f,12\n",
      "\n",
      "103,ankita,65000,f,11\n",
      "\n",
      "104,ravi,45000,m,11\n",
      "\n",
      "105,Suresh,55000,m,12\n",
      "\n",
      "106,Rama,75000,f,11\n",
      "\n",
      "107,Krishna,60000,m,11\n",
      "\n",
      "108,Karshima,35000,f,11\n",
      "\n",
      "109,Rani,90000,f,12\n",
      "\n",
      "110,Chandan,25000,m,13\n",
      "\n",
      "111,Reena,65000,f,14\n",
      "\n",
      "112,Veni,10000,f,14\n"
     ]
    }
   ],
   "source": [
    "fileobj=open(\"Demo2_EmpData.txt\")\n",
    "lines=fileobj.readlines()  #read all the lines in the file\n",
    "print(lines)\n",
    "print(\"-------------------------\")\n",
    "for v in lines:\n",
    "    print(v)"
   ]
  },
  {
   "cell_type": "code",
   "execution_count": 30,
   "id": "8cf07545",
   "metadata": {},
   "outputs": [
    {
     "name": "stdout",
     "output_type": "stream",
     "text": [
      "\"id\",\"name\",\"salary\",\"gender\",\"dno\"\n",
      "101,amar,50000,m,11\n",
      "102,kiran,45000,f,12\n",
      "103,ankita,65000,f,11\n",
      "104,ravi,45000,m,11\n",
      "105,Suresh,55000,m,12\n",
      "106,Rama,75000,f,11\n",
      "107,Krishna,60000,m,11\n",
      "108,Karshima,35000,f,11\n",
      "109,Rani,90000,f,12\n",
      "110,Chandan,25000,m,13\n",
      "111,Reena,65000,f,14\n",
      "112,Veni,10000,f,14\n"
     ]
    }
   ],
   "source": [
    "fileobj=open(\"Demo2_EmpData.txt\")\n",
    "line=fileobj.readlines()\n",
    "\n",
    "#for v in line:\n",
    "#    print (v)\n",
    "\n",
    "for v in line:\n",
    "    v=v.strip()\n",
    "    print(v)"
   ]
  },
  {
   "cell_type": "code",
   "execution_count": 36,
   "id": "3abdd2c2",
   "metadata": {},
   "outputs": [
    {
     "name": "stdout",
     "output_type": "stream",
     "text": [
      "\"Age\"\n",
      "\n",
      "11.0\n",
      "12.0\n",
      "13.0\n",
      "14.0\n",
      "15.0\n",
      "16.0\n",
      "17.0\n",
      "18.0\n",
      "19.0\n",
      "20.0\n"
     ]
    }
   ],
   "source": [
    "#reading data from a file appending it to a list object\n",
    "fileobj=open(\"Demo3_age.txt\")\n",
    "#lines = fileobj.readlines()\n",
    "#print(lines)\n",
    "# for x in lines:\n",
    "#     print(x)\n",
    "\n",
    "header = fileobj.readline()\n",
    "print(header)\n",
    "\n",
    "flist = [] #empty list\n",
    "lines = fileobj.readlines()\n",
    "for v in lines:\n",
    "    v=v.strip()\n",
    "    flist.append(float(v))\n",
    "#print(flist)\n",
    "\n",
    "for v in flist:\n",
    "    print(v)"
   ]
  },
  {
   "cell_type": "code",
   "execution_count": 39,
   "id": "a8360636",
   "metadata": {},
   "outputs": [
    {
     "name": "stdout",
     "output_type": "stream",
     "text": [
      "\"age\",\"gender\"\n",
      "\n",
      "(10, 'm')\n",
      "(23, 'f')\n",
      "(45, 'm')\n",
      "(46, 'm')\n",
      "(24, 'f')\n"
     ]
    }
   ],
   "source": [
    "#reading data from a file, convert it into tuple and \n",
    "#append it to a list object)\n",
    "# split : Splits a string into a list where each word becomes a list item\n",
    "fileobj=open(\"Demo4_ageGender.txt\")\n",
    "#lines = fileobj.readlines()\n",
    "#print(lines)\n",
    "\n",
    "header = fileobj.readline()\n",
    "print(header) \n",
    "\n",
    "flist = [] \n",
    "lines = fileobj.readlines()      #a = \"45,m\"\n",
    "for line in lines:\n",
    "    w=line.strip().split(',')  #w = [45,m]\n",
    "    t = (int(w[0]),w[1]) #(45,m)\n",
    "    flist.append(t)\n",
    "#print(flist)\n",
    "for v in flist:\n",
    "    print(v)"
   ]
  },
  {
   "cell_type": "code",
   "execution_count": 40,
   "id": "6e077cf3",
   "metadata": {},
   "outputs": [
    {
     "name": "stdout",
     "output_type": "stream",
     "text": [
      "{'m': ['10', '45', '46'], 'f': ['23', '24']}\n"
     ]
    }
   ],
   "source": [
    "#reading data from a file, creating dicitionary by gender key\n",
    "fileobj=open(\"Demo4_ageGender.txt\")\n",
    "header = fileobj.readline()\n",
    "fdict = {}\n",
    "lines = fileobj.readlines()\n",
    "for line in lines:\n",
    "    w=line.strip().split(',')\n",
    "    gender = w[1]\n",
    "    age = w[0]          \n",
    "    if fdict.get(gender)==None: #{m:[45],f:[65]}\n",
    "        fdict[gender] = [age]\n",
    "    else:\n",
    "        fdict[gender].append(age)\n",
    "print(fdict)"
   ]
  },
  {
   "cell_type": "code",
   "execution_count": null,
   "id": "4cf78d9d",
   "metadata": {},
   "outputs": [],
   "source": []
  }
 ],
 "metadata": {
  "kernelspec": {
   "display_name": "Python 3",
   "language": "python",
   "name": "python3"
  },
  "language_info": {
   "codemirror_mode": {
    "name": "ipython",
    "version": 3
   },
   "file_extension": ".py",
   "mimetype": "text/x-python",
   "name": "python",
   "nbconvert_exporter": "python",
   "pygments_lexer": "ipython3",
   "version": "3.8.8"
  }
 },
 "nbformat": 4,
 "nbformat_minor": 5
}
