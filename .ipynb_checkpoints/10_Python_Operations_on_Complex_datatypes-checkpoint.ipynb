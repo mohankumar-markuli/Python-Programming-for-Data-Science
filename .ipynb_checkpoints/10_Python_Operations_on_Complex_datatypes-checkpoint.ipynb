{
 "cells": [
  {
   "cell_type": "markdown",
   "id": "f2422884",
   "metadata": {},
   "source": [
    "# Adding two list"
   ]
  },
  {
   "cell_type": "code",
   "execution_count": 47,
   "id": "df66ffd9",
   "metadata": {},
   "outputs": [
    {
     "name": "stdout",
     "output_type": "stream",
     "text": [
      "[1, 2, 3, 4, 5]\n",
      "[10, 20, 30, 40, 50]\n",
      "[11, 22, 33, 44, 55]\n"
     ]
    }
   ],
   "source": [
    "# way1\n",
    "\n",
    "a=[1,2,3,4,5]\n",
    "b=[10,20,30,40,50]\n",
    "\n",
    "i=0 #using for index value of b\n",
    "res=[]\n",
    "\n",
    "for value in a:\n",
    "    c = value + b[i]\n",
    "    i+=1\n",
    "    res.append(c) #appends the data to 'a' list object\n",
    "\n",
    "print(a)\n",
    "print(b)\n",
    "print(res)"
   ]
  },
  {
   "cell_type": "markdown",
   "id": "aed0ba8e",
   "metadata": {},
   "source": [
    "# list - append() \n",
    "\n",
    "syntax : list_name.append(value)"
   ]
  },
  {
   "cell_type": "code",
   "execution_count": 53,
   "id": "d4e39c48",
   "metadata": {},
   "outputs": [
    {
     "name": "stdout",
     "output_type": "stream",
     "text": [
      "Enter a number : 12\n",
      "[12]\n"
     ]
    }
   ],
   "source": [
    "#append method/statement is used add data/element to end of the list object\n",
    "a = [] # empty list\n",
    "x =  int(input(\"Enter a number : \"))\n",
    "a.append(x)\n",
    "print(a)"
   ]
  },
  {
   "cell_type": "code",
   "execution_count": 54,
   "id": "74c363d1",
   "metadata": {},
   "outputs": [
    {
     "name": "stdout",
     "output_type": "stream",
     "text": [
      "Enter a number : 23\n",
      "[1, 2, 3, 23]\n"
     ]
    }
   ],
   "source": [
    "#append method is used add data/element to end of the list object\n",
    "b = [1,2,3]\n",
    "x =  int(input(\"Enter a number : \"))\n",
    "b.append(x)\n",
    "print(b)"
   ]
  },
  {
   "cell_type": "markdown",
   "id": "9e91af4e",
   "metadata": {},
   "source": [
    "# list - insert()\n",
    "\n",
    "syntax : list_name.insert(position,value)"
   ]
  },
  {
   "cell_type": "code",
   "execution_count": 55,
   "id": "13216f75",
   "metadata": {},
   "outputs": [
    {
     "name": "stdout",
     "output_type": "stream",
     "text": [
      "[1, 2, 10, 3]\n"
     ]
    }
   ],
   "source": [
    "#insert method is used to insert data to the specifice location of the list\n",
    "b = [1,2,3]\n",
    "x = 10\n",
    "b.insert(2,x)\n",
    "print (b)"
   ]
  },
  {
   "cell_type": "code",
   "execution_count": 56,
   "id": "a0a034f0",
   "metadata": {},
   "outputs": [
    {
     "name": "stdout",
     "output_type": "stream",
     "text": [
      "[1, 2, (10, 12), 3]\n"
     ]
    }
   ],
   "source": [
    "b = [1,2,3]\n",
    "x = (10,12)\n",
    "b.insert(2,x)\n",
    "print (b)"
   ]
  },
  {
   "cell_type": "markdown",
   "id": "fedb2a19",
   "metadata": {},
   "source": [
    "# method - zip() \n",
    "The zip function pairs the first elements of each iterator together, then pairs the second elements together and so on.\n",
    "<br>\n",
    "If the iterables in the zip function are not the same length, then the smallest length iterable decides the length of the generated output"
   ]
  },
  {
   "cell_type": "code",
   "execution_count": 57,
   "id": "55ccabc1",
   "metadata": {},
   "outputs": [
    {
     "name": "stdout",
     "output_type": "stream",
     "text": [
      "((1, 10), (2, 20), (3, 30))\n"
     ]
    }
   ],
   "source": [
    "a=(1,2,3)\n",
    "b=(10,20,30)\n",
    "x=zip(a,b)\n",
    "print(tuple(x))"
   ]
  },
  {
   "cell_type": "code",
   "execution_count": 58,
   "id": "5bc34fd8",
   "metadata": {},
   "outputs": [
    {
     "name": "stdout",
     "output_type": "stream",
     "text": [
      "[11, 22, 33, 44, 55]\n"
     ]
    }
   ],
   "source": [
    "#way2\n",
    "\n",
    "a=[1,2,3,4,5]\n",
    "b=[10,20,30,40,50]\n",
    "\n",
    "res = []\n",
    "for x,y in list(zip(a,b)):   #[(1,10),(2,20),(3,30),(4,40),(5,50)]\n",
    "    res.append(x+y)\n",
    "\n",
    "print(res)"
   ]
  },
  {
   "cell_type": "markdown",
   "id": "0b765e27",
   "metadata": {},
   "source": [
    "# List Comprehension"
   ]
  },
  {
   "cell_type": "code",
   "execution_count": 59,
   "id": "6806a9e6",
   "metadata": {},
   "outputs": [
    {
     "name": "stdout",
     "output_type": "stream",
     "text": [
      "[11, 22, 33, 44, 55]\n"
     ]
    }
   ],
   "source": [
    "#way 3:\n",
    "a=[1,2,3,4,5]\n",
    "b=[10,20,30,40,50]\n",
    "r1=[x+y for x,y in list(zip(a,b))] #[(1,25),(2,35),(3,45),(4,55),(5,65)]\n",
    "print(r1)\n",
    "#for v in r1:\n",
    "#    print(v)"
   ]
  },
  {
   "cell_type": "code",
   "execution_count": 60,
   "id": "c33263fe",
   "metadata": {},
   "outputs": [
    {
     "name": "stdout",
     "output_type": "stream",
     "text": [
      "[125.0, 187.5, 218.75, 375.0, 468.75]\n"
     ]
    }
   ],
   "source": [
    "kms = [200,300,350,600,750]\n",
    "miles = [(float(x/1.6)) for x in kms]\n",
    "print(miles)"
   ]
  },
  {
   "cell_type": "code",
   "execution_count": 61,
   "id": "31c81d22",
   "metadata": {},
   "outputs": [
    {
     "data": {
      "text/plain": [
       "[(3, 4, 5),\n",
       " (5, 12, 13),\n",
       " (6, 8, 10),\n",
       " (7, 24, 25),\n",
       " (8, 15, 17),\n",
       " (9, 12, 15),\n",
       " (10, 24, 26),\n",
       " (12, 16, 20),\n",
       " (15, 20, 25),\n",
       " (20, 21, 29)]"
      ]
     },
     "execution_count": 61,
     "metadata": {},
     "output_type": "execute_result"
    }
   ],
   "source": [
    "#[(x,y,z) for x in range(1,30) for y in range(x,30) for z in range(y,30)]\n",
    "\n",
    "[(x,y,z) for x in range(1,30) for y in range(x,30) for z in range(y,30) if x**2 + y**2 == z**2]"
   ]
  },
  {
   "cell_type": "markdown",
   "id": "6e3811fd",
   "metadata": {},
   "source": [
    "# filter over list objects"
   ]
  },
  {
   "cell_type": "code",
   "execution_count": 62,
   "id": "209d2584",
   "metadata": {},
   "outputs": [
    {
     "name": "stdout",
     "output_type": "stream",
     "text": [
      "[34, 56, 75, 62, 59, 30]\n"
     ]
    }
   ],
   "source": [
    "#way 1:\n",
    "\n",
    "age=[12,23,22,26,27,34,56,75,62,59,30]\n",
    "new_age=[]\n",
    "for v in age:\n",
    "    if v>=30:\n",
    "        new_age.append(v)\n",
    "print(new_age)"
   ]
  },
  {
   "cell_type": "code",
   "execution_count": 63,
   "id": "a6fea6f4",
   "metadata": {},
   "outputs": [
    {
     "name": "stdout",
     "output_type": "stream",
     "text": [
      "[34, 56, 75, 62, 59, 30]\n"
     ]
    }
   ],
   "source": [
    "#way 2:\n",
    "\n",
    "age=[12,23,22,26,27,34,56,75,62,59,30]\n",
    "new_age=[value for value in age if value>=30]                #[34, 56, 75, 62, 59, 30]\n",
    "print(new_age)"
   ]
  },
  {
   "cell_type": "code",
   "execution_count": 64,
   "id": "fffe2c85",
   "metadata": {},
   "outputs": [
    {
     "name": "stdout",
     "output_type": "stream",
     "text": [
      "('a', 'm', 40000, 11)\n",
      "('b', 'm', 50000, 12)\n",
      "('c', 'f', 60000, 13)\n",
      "('d', 'f', 55000, 14)\n",
      "('e', 'm', 45000, 15)\n"
     ]
    }
   ],
   "source": [
    "name=['a','b','c','d','e']\n",
    "sal=[40000,50000,60000,55000,45000]\n",
    "dno=[11,12,13,14,15]\n",
    "gender=['m','m','f','f','m']\n",
    "info=[]\n",
    "\n",
    "for n,s,d,g in list(zip(name,sal,dno,gender)):#[(a,40000,11,m)]\n",
    "       info.append((n,g,s,d))\n",
    "        \n",
    "#print(info)\n",
    "for values in info:\n",
    "    print(values)"
   ]
  },
  {
   "cell_type": "code",
   "execution_count": 65,
   "id": "0eb9cc70",
   "metadata": {},
   "outputs": [
    {
     "name": "stdout",
     "output_type": "stream",
     "text": [
      "('a', 'm', 40000, 11)\n",
      "('b', 'm', 50000, 12)\n",
      "('c', 'f', 60000, 13)\n",
      "('d', 'f', 55000, 14)\n",
      "('e', 'm', 45000, 15)\n",
      "{'m': 225000}\n"
     ]
    }
   ],
   "source": [
    "#finding the total salary for male employees and female employees (aggregation)\n",
    "\n",
    "name=['a','b','c','d','e']\n",
    "sal=[40000,50000,60000,55000,45000]\n",
    "dno=[11,12,13,14,15]\n",
    "gender=['m','m','f','f','m']\n",
    "info=[]\n",
    "res={}\n",
    "\n",
    "for n,s,d,g in list(zip(name,sal,dno,gender)):\n",
    "    info.append((n,g,s,d))\n",
    "    \n",
    "for value in info:\n",
    "    print(value)\n",
    "    \n",
    "for values in info:  #('d', 'f', 55000, 14)\n",
    "    gen = value[1] #f\n",
    "    sal = value[2] #55000  \n",
    "    \n",
    "    if res.get(gen)==None: #{m:135000,f:115000}\n",
    "        res[gen]=sal\n",
    "    else:\n",
    "        res[gen]+=sal\n",
    "print (res)"
   ]
  },
  {
   "cell_type": "markdown",
   "id": "6fd4e492",
   "metadata": {},
   "source": [
    "# Python dictionary method - get() \n",
    "\n",
    "returns a value for the given key. <br> If key is not available then returns <strong> default value - None</strong>."
   ]
  },
  {
   "cell_type": "code",
   "execution_count": 66,
   "id": "31f6d65b",
   "metadata": {},
   "outputs": [
    {
     "name": "stdout",
     "output_type": "stream",
     "text": [
      "('a', 'm', 40000, 11)\n",
      "('b', 'm', 50000, 12)\n",
      "('c', 'f', 60000, 13)\n",
      "('d', 'f', 55000, 14)\n",
      "('e', 'm', 45000, 15)\n",
      "['a', 'b', 'e']\n",
      "['c', 'd']\n"
     ]
    }
   ],
   "source": [
    "#program to classify the names of male employees and female employees\n",
    "\n",
    "name=['a','b','c','d','e']\n",
    "sal=[40000,50000,60000,55000,45000]\n",
    "dno=[11,12,13,14,15]\n",
    "gender=['m','m','f','f','m']\n",
    "info=[]\n",
    "res={}\n",
    "\n",
    "for n,s,d,g in list(zip(name,sal,dno,gender)):  \n",
    "    info.append((n,g,s,d))\n",
    "\n",
    "# print(info)\n",
    "\n",
    "for value in info:\n",
    "    print(value)\n",
    "    \n",
    "for value in info: \n",
    "    gen = value[1] #f\n",
    "    nam = value[0] #d\n",
    "    \n",
    "    if res.get(gen)==None:  #{m:[a,b,e], f:[c,d]}\n",
    "        res[gen]=[nam]     \n",
    "    else:\n",
    "        res[gen].append(nam)\n",
    "#print (res)\n",
    "\n",
    "for k in res:\n",
    "    print (res[k])"
   ]
  },
  {
   "cell_type": "code",
   "execution_count": 67,
   "id": "db917650",
   "metadata": {},
   "outputs": [
    {
     "name": "stdout",
     "output_type": "stream",
     "text": [
      "Mohan kumar\n"
     ]
    }
   ],
   "source": [
    "name = \"Mohan kumar\"\n",
    "print(name.capitalize())"
   ]
  },
  {
   "cell_type": "markdown",
   "id": "e2e1fa1d",
   "metadata": {},
   "source": [
    "# list methods - index()"
   ]
  },
  {
   "cell_type": "code",
   "execution_count": 68,
   "id": "f7d34ba8",
   "metadata": {},
   "outputs": [
    {
     "name": "stdout",
     "output_type": "stream",
     "text": [
      "Data : 100\n",
      "Index : 9\n",
      "Index : 0\n"
     ]
    }
   ],
   "source": [
    "#The index() method returns the index of the specified element in the list.\n",
    "\n",
    "a = [100,2,3,4,5,6,7,8,9,10]\n",
    "\n",
    "print(\"Data :\", a[0])\n",
    "print(\"Index :\",a.index(10))\n",
    "print(\"Index :\",a.index(a[0]))"
   ]
  },
  {
   "cell_type": "code",
   "execution_count": 69,
   "id": "18b7d0dd",
   "metadata": {},
   "outputs": [
    {
     "name": "stdout",
     "output_type": "stream",
     "text": [
      "Data : 100 Index :  0\n",
      "Data : 2 Index :  1\n",
      "Data : 3 Index :  2\n",
      "Data : 4 Index :  3\n",
      "Data : 5 Index :  4\n",
      "Data : 6 Index :  5\n",
      "Data : 7 Index :  6\n",
      "Data : 8 Index :  7\n",
      "Data : 9 Index :  8\n",
      "Data : 10 Index :  9\n"
     ]
    }
   ],
   "source": [
    "a = [100,2,3,4,5,6,7,8,9,10]\n",
    "for x in a:\n",
    "    print(\"Data :\",x,  'Index : ',a.index(x))"
   ]
  },
  {
   "cell_type": "code",
   "execution_count": 70,
   "id": "69ada975",
   "metadata": {},
   "outputs": [
    {
     "name": "stdout",
     "output_type": "stream",
     "text": [
      "Data : c Index:  0\n",
      "Data : o Index:  1\n",
      "Data : m Index:  2\n",
      "Data : p Index:  3\n",
      "Data : u Index:  4\n",
      "Data : t Index:  5\n",
      "Data : e Index:  6\n",
      "Data : r Index:  7\n"
     ]
    }
   ],
   "source": [
    "b = ['c','o','m','p','u','t','e','r']\n",
    "\n",
    "for x in b:\n",
    "    print(\"Data :\",x,  'Index: ',b.index(x))"
   ]
  },
  {
   "cell_type": "code",
   "execution_count": 71,
   "id": "6eed15ed",
   "metadata": {},
   "outputs": [
    {
     "name": "stdout",
     "output_type": "stream",
     "text": [
      "4\n"
     ]
    }
   ],
   "source": [
    "b = ['I','n','d','i','a','n','a','m','r','y']\n",
    "print(b.index('a'))"
   ]
  },
  {
   "cell_type": "code",
   "execution_count": 72,
   "id": "34f03258",
   "metadata": {},
   "outputs": [
    {
     "name": "stdout",
     "output_type": "stream",
     "text": [
      "6\n"
     ]
    }
   ],
   "source": [
    "b = ['I','n','d','i','a','n','a','m','r','y']\n",
    "print(b.index('a',5,10))"
   ]
  },
  {
   "cell_type": "markdown",
   "id": "8484baf4",
   "metadata": {},
   "source": [
    "# list methods - extend()"
   ]
  },
  {
   "cell_type": "code",
   "execution_count": 73,
   "id": "fb826e2f",
   "metadata": {},
   "outputs": [
    {
     "name": "stdout",
     "output_type": "stream",
     "text": [
      "[1, 2, 3, 4, 5, 6, 7, 8, 9, 10, 100, 200, 300]\n"
     ]
    }
   ],
   "source": [
    "a = [1,2,3,4,5,6,7,8,9,10]\n",
    "b = [100,200,300]\n",
    "a.extend(b)\n",
    "print(a)"
   ]
  },
  {
   "cell_type": "code",
   "execution_count": 74,
   "id": "7db7189c",
   "metadata": {},
   "outputs": [
    {
     "name": "stdout",
     "output_type": "stream",
     "text": [
      "[1, 2, 3, 4, 5, 6, 7, 8, 9, 10, 100, 200, 300]\n"
     ]
    }
   ],
   "source": [
    "a = [1,2,3,4,5,6,7,8,9,10]\n",
    "b = (100,200,300)\n",
    "a.extend(b)\n",
    "print(a)"
   ]
  },
  {
   "cell_type": "code",
   "execution_count": 75,
   "id": "e7501ce0",
   "metadata": {},
   "outputs": [
    {
     "name": "stdout",
     "output_type": "stream",
     "text": [
      "a = [10, 22, 13, 48]\n"
     ]
    }
   ],
   "source": [
    "#we can extend the list without using extend method\n",
    "a = [10, 22]\n",
    "b = (13, 48)\n",
    "a += b   \n",
    "# a + = b   #this leads to an error cause += is a single operators\n",
    "print('a =', a)"
   ]
  },
  {
   "cell_type": "code",
   "execution_count": 76,
   "id": "90d2510d",
   "metadata": {},
   "outputs": [
    {
     "name": "stdout",
     "output_type": "stream",
     "text": [
      "a = [10, 22, 13, 48]\n",
      "4\n"
     ]
    }
   ],
   "source": [
    "#another type of extending\n",
    "\n",
    "a = [10, 22]\n",
    "b = (13, 48)\n",
    "\n",
    "a[len(a):] = b  #a[2:] = b\n",
    "print('a =', a)\n",
    "print(len(a))"
   ]
  },
  {
   "cell_type": "markdown",
   "id": "f641ee29",
   "metadata": {},
   "source": [
    "# list methods - remove()"
   ]
  },
  {
   "cell_type": "code",
   "execution_count": 77,
   "id": "b369ea28",
   "metadata": {},
   "outputs": [
    {
     "name": "stdout",
     "output_type": "stream",
     "text": [
      "['Akbar', 'Amar', 'Antony']\n"
     ]
    }
   ],
   "source": [
    "#The remove() method removes the first matching element in the list (element has be passed as argument)\n",
    "namlist = [\"Amar\",\"Akbar\",\"Amar\",\"Antony\"]\n",
    "namlist.remove(\"Amar\")\n",
    "print(namlist)"
   ]
  },
  {
   "cell_type": "markdown",
   "id": "11782925",
   "metadata": {},
   "source": [
    "# list methods - count()"
   ]
  },
  {
   "cell_type": "code",
   "execution_count": 78,
   "id": "e0c04b02",
   "metadata": {},
   "outputs": [
    {
     "name": "stdout",
     "output_type": "stream",
     "text": [
      "3\n"
     ]
    }
   ],
   "source": [
    "#The count() method returns the number of times of the given element appears in the list.\n",
    "a = [1,2,3,4,5,2,7,8,2,10]\n",
    "print(a.count(2))"
   ]
  },
  {
   "cell_type": "code",
   "execution_count": 79,
   "id": "ef829d9f",
   "metadata": {},
   "outputs": [
    {
     "name": "stdout",
     "output_type": "stream",
     "text": [
      "2\n"
     ]
    }
   ],
   "source": [
    "b = ['I','n','d','i','a','n','a','m','r','y']\n",
    "print(b.count('a'))"
   ]
  },
  {
   "cell_type": "markdown",
   "id": "7fc899de",
   "metadata": {},
   "source": [
    "# list methods - pop()"
   ]
  },
  {
   "cell_type": "code",
   "execution_count": 80,
   "id": "23ebbdee",
   "metadata": {},
   "outputs": [
    {
     "name": "stdout",
     "output_type": "stream",
     "text": [
      "1000\n",
      "[1, 2, 3, 5, 2, 7, 8, 2, 10]\n"
     ]
    }
   ],
   "source": [
    "#The pop() method removes the item at the given index from the list and returns the removed item.\n",
    "\n",
    "a = [1,2,3,1000,5,2,7,8,2,10]\n",
    "removedvalue = a.pop(3)\n",
    "print(removedvalue)\n",
    "print(a)"
   ]
  },
  {
   "cell_type": "markdown",
   "id": "0ad47317",
   "metadata": {},
   "source": [
    "# list methods - reverse()"
   ]
  },
  {
   "cell_type": "code",
   "execution_count": 81,
   "id": "afbcf44b",
   "metadata": {},
   "outputs": [
    {
     "name": "stdout",
     "output_type": "stream",
     "text": [
      "['Rakshith', 'Pavan', 'Ullaas']\n"
     ]
    }
   ],
   "source": [
    "#The reverse() method reverses the elements of the list.\n",
    "a = [1,2,3,4,5,2,7,8,2,10]\n",
    "b = [\"Ullaas\",\"Pavan\",\"Rakshith\"]\n",
    "b.reverse()\n",
    "print(b)"
   ]
  },
  {
   "cell_type": "markdown",
   "id": "3f52fc30",
   "metadata": {},
   "source": [
    "# list methods - copy()"
   ]
  },
  {
   "cell_type": "code",
   "execution_count": 82,
   "id": "e684422b",
   "metadata": {},
   "outputs": [
    {
     "name": "stdout",
     "output_type": "stream",
     "text": [
      "[1, 2, 3, 4, 5, 2, 7, 8, 2, 10]\n",
      "[45, 66, 77]\n"
     ]
    }
   ],
   "source": [
    "#copy() method Copies the elements of one list to another list.\n",
    "a = [1,2,3,4,5,2,7,8,2,10]\n",
    "b = a\n",
    "print(b)\n",
    "\n",
    "#same copy can be done using copy() method\n",
    "a = [45,66,77]\n",
    "b = a.copy()\n",
    "print(b)"
   ]
  },
  {
   "cell_type": "markdown",
   "id": "e3736110",
   "metadata": {},
   "source": [
    "# list methods - clear()"
   ]
  },
  {
   "cell_type": "code",
   "execution_count": 83,
   "id": "5e513a9e",
   "metadata": {},
   "outputs": [
    {
     "name": "stdout",
     "output_type": "stream",
     "text": [
      "[1, 2, 3, 4, 5, 2, 7, 8, 2, 10]\n",
      "[]\n"
     ]
    }
   ],
   "source": [
    "#The clear() method removes all items from the list\n",
    "a = [1,2,3,4,5,2,7,8,2,10]\n",
    "print(a)\n",
    "\n",
    "#after clearing\n",
    "a.clear()\n",
    "print(a)"
   ]
  }
 ],
 "metadata": {
  "kernelspec": {
   "display_name": "Python 3",
   "language": "python",
   "name": "python3"
  },
  "language_info": {
   "codemirror_mode": {
    "name": "ipython",
    "version": 3
   },
   "file_extension": ".py",
   "mimetype": "text/x-python",
   "name": "python",
   "nbconvert_exporter": "python",
   "pygments_lexer": "ipython3",
   "version": "3.8.8"
  }
 },
 "nbformat": 4,
 "nbformat_minor": 5
}
