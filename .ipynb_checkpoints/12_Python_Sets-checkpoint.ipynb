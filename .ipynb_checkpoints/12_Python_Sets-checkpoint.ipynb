{
 "cells": [
  {
   "cell_type": "markdown",
   "id": "7ea3927c",
   "metadata": {},
   "source": [
    "# set : { }\n",
    "set : collection of unique elements <br>\n",
    "set : items are not stored based on index ( no indexing in set) <br>\n",
    "set : it is not ordered collection<br>\n",
    "set : mutable"
   ]
  },
  {
   "cell_type": "code",
   "execution_count": 2,
   "id": "0dea4c08",
   "metadata": {},
   "outputs": [],
   "source": [
    "a={1:2}"
   ]
  },
  {
   "cell_type": "code",
   "execution_count": 3,
   "id": "c07dad18",
   "metadata": {},
   "outputs": [
    {
     "data": {
      "text/plain": [
       "{1: 2}"
      ]
     },
     "execution_count": 3,
     "metadata": {},
     "output_type": "execute_result"
    }
   ],
   "source": [
    "a"
   ]
  },
  {
   "cell_type": "code",
   "execution_count": 4,
   "id": "c5a9ffdc",
   "metadata": {},
   "outputs": [],
   "source": [
    "b={1,2}"
   ]
  },
  {
   "cell_type": "code",
   "execution_count": 5,
   "id": "99a5cfd6",
   "metadata": {},
   "outputs": [
    {
     "data": {
      "text/plain": [
       "set"
      ]
     },
     "execution_count": 5,
     "metadata": {},
     "output_type": "execute_result"
    }
   ],
   "source": [
    "type(b)"
   ]
  },
  {
   "cell_type": "code",
   "execution_count": 6,
   "id": "74f2fa4f",
   "metadata": {},
   "outputs": [],
   "source": [
    "c=set()"
   ]
  },
  {
   "cell_type": "code",
   "execution_count": 7,
   "id": "701a4b62",
   "metadata": {},
   "outputs": [
    {
     "data": {
      "text/plain": [
       "set"
      ]
     },
     "execution_count": 7,
     "metadata": {},
     "output_type": "execute_result"
    }
   ],
   "source": [
    "type(c)"
   ]
  },
  {
   "cell_type": "code",
   "execution_count": 8,
   "id": "c65a624a",
   "metadata": {},
   "outputs": [
    {
     "data": {
      "text/plain": [
       "{101, 23, 6784357.56, 'Amit', 'Delhi'}"
      ]
     },
     "execution_count": 8,
     "metadata": {},
     "output_type": "execute_result"
    }
   ],
   "source": [
    "st={101,\"Amit\",23,\"Delhi\",6784357.56}\n",
    "st"
   ]
  },
  {
   "cell_type": "code",
   "execution_count": 9,
   "id": "9ec64797",
   "metadata": {},
   "outputs": [],
   "source": [
    "s1={1,5,8,14}"
   ]
  },
  {
   "cell_type": "code",
   "execution_count": 10,
   "id": "2d503cd0",
   "metadata": {},
   "outputs": [],
   "source": [
    "s2={5,2,14,7}"
   ]
  },
  {
   "cell_type": "code",
   "execution_count": 11,
   "id": "87a1b91f",
   "metadata": {},
   "outputs": [
    {
     "data": {
      "text/plain": [
       "{1, 2, 5, 7, 8, 14}"
      ]
     },
     "execution_count": 11,
     "metadata": {},
     "output_type": "execute_result"
    }
   ],
   "source": [
    "s1.union(s2)"
   ]
  },
  {
   "cell_type": "code",
   "execution_count": 12,
   "id": "d327b6ed",
   "metadata": {},
   "outputs": [
    {
     "data": {
      "text/plain": [
       "{5, 14}"
      ]
     },
     "execution_count": 12,
     "metadata": {},
     "output_type": "execute_result"
    }
   ],
   "source": [
    "s1.intersection(s2)"
   ]
  },
  {
   "cell_type": "code",
   "execution_count": 13,
   "id": "c27e1d47",
   "metadata": {},
   "outputs": [
    {
     "name": "stdout",
     "output_type": "stream",
     "text": [
      "{8, 1}\n",
      "{2, 7}\n"
     ]
    }
   ],
   "source": [
    "print(s1.difference(s2))\n",
    "\n",
    "print(s2.difference(s1))"
   ]
  },
  {
   "cell_type": "code",
   "execution_count": 14,
   "id": "2a8802de",
   "metadata": {},
   "outputs": [],
   "source": [
    "l=list(st)"
   ]
  },
  {
   "cell_type": "code",
   "execution_count": 15,
   "id": "1b87279a",
   "metadata": {},
   "outputs": [
    {
     "data": {
      "text/plain": [
       "['Delhi', 101, 6784357.56, 23, 'Amit']"
      ]
     },
     "execution_count": 15,
     "metadata": {},
     "output_type": "execute_result"
    }
   ],
   "source": [
    "l"
   ]
  },
  {
   "cell_type": "code",
   "execution_count": 16,
   "id": "18010d2f",
   "metadata": {},
   "outputs": [
    {
     "name": "stdout",
     "output_type": "stream",
     "text": [
      "[1, 2, 3, 4, 5, 6, 6, 4, 3, 8, 9, 2, 10]\n",
      "[1, 2, 3, 4, 5, 6, 8, 9, 10]\n"
     ]
    }
   ],
   "source": [
    "a = [1,2,3,4,5,6,6,4,3,8,9,2,10]\n",
    "new_a = list(set(a))\n",
    "print(a)\n",
    "print(new_a)"
   ]
  },
  {
   "cell_type": "code",
   "execution_count": null,
   "id": "1eebd711",
   "metadata": {},
   "outputs": [],
   "source": []
  }
 ],
 "metadata": {
  "kernelspec": {
   "display_name": "Python 3",
   "language": "python",
   "name": "python3"
  },
  "language_info": {
   "codemirror_mode": {
    "name": "ipython",
    "version": 3
   },
   "file_extension": ".py",
   "mimetype": "text/x-python",
   "name": "python",
   "nbconvert_exporter": "python",
   "pygments_lexer": "ipython3",
   "version": "3.8.8"
  }
 },
 "nbformat": 4,
 "nbformat_minor": 5
}
