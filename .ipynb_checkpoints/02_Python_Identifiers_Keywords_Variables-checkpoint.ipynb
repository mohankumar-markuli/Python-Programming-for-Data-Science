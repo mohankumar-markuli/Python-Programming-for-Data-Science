{
 "cells": [
  {
   "cell_type": "markdown",
   "id": "52f58c97",
   "metadata": {},
   "source": [
    "# Identifiers"
   ]
  },
  {
   "attachments": {},
   "cell_type": "markdown",
   "id": "9a062b6e",
   "metadata": {},
   "source": [
    "<b>A Python identifier is a name used to identify a variable, function, class, module or other object.<b>"
   ]
  },
  {
   "attachments": {},
   "cell_type": "markdown",
   "id": "0faf05fb",
   "metadata": {},
   "source": [
    "<strong>Rules to write Identifiers </strong><br>\n",
    "\n",
    "    1. An identifier starts with a letter A to Z or a to z or an underscore (_) followed by zero or more letters,                                      underscores and digits (0 to 9)<br>\n",
    "    2. Python does not allow punctuation characters such as @, $, and % within identifiers.<br>\n",
    "    3. Python is a case sensitive programming language<br>\n",
    "    4. Keywords cannot be used as identifiers\n",
    "<br>\n",
    "<strong>Here are naming conventions for Python identifiers</strong>\n",
    "\n",
    "    1. Class names start with an uppercase letter. All other identifiers start with a lowercase letter.\n",
    "    2. Starting an identifier with a single leading underscore indicates that the identifier is private.\n",
    "    3. Starting an identifier with two leading underscores indicates a strongly private identifier.\n",
    "    4. If the identifier also ends with two trailing underscores, the identifier is a language-defined special name."
   ]
  },
  {
   "cell_type": "code",
   "execution_count": null,
   "id": "0ea8eec9",
   "metadata": {},
   "outputs": [],
   "source": [
    "height = 10"
   ]
  },
  {
   "cell_type": "code",
   "execution_count": null,
   "id": "2befb22d",
   "metadata": {},
   "outputs": [],
   "source": [
    "height"
   ]
  },
  {
   "cell_type": "code",
   "execution_count": null,
   "id": "1cb0bca9",
   "metadata": {},
   "outputs": [],
   "source": [
    "Height=24"
   ]
  },
  {
   "cell_type": "code",
   "execution_count": null,
   "id": "35515761",
   "metadata": {},
   "outputs": [],
   "source": [
    "print(Height)\n",
    "print(height)"
   ]
  },
  {
   "cell_type": "code",
   "execution_count": null,
   "id": "79f53777",
   "metadata": {},
   "outputs": [],
   "source": [
    "0Height"
   ]
  },
  {
   "cell_type": "code",
   "execution_count": null,
   "id": "8286bbdd",
   "metadata": {},
   "outputs": [],
   "source": [
    "Height@1 = 20"
   ]
  },
  {
   "cell_type": "code",
   "execution_count": null,
   "id": "42417414",
   "metadata": {},
   "outputs": [],
   "source": [
    "def functionName01():\n",
    "    print(\"validFunction\")\n",
    "    \n",
    "functionName01()"
   ]
  },
  {
   "cell_type": "code",
   "execution_count": null,
   "id": "20bbbdf3",
   "metadata": {},
   "outputs": [],
   "source": [
    "def 1functionName01():\n",
    "    print(\"validFunction\")\n",
    "    \n",
    "1functionName01()"
   ]
  },
  {
   "cell_type": "markdown",
   "id": "e943ab09",
   "metadata": {},
   "source": [
    "# Keywords"
   ]
  },
  {
   "cell_type": "markdown",
   "id": "a338ba32",
   "metadata": {},
   "source": [
    "Python has a set of keywords that are reserved words that cannot be used as variable names, function names, or any other identifiers:"
   ]
  },
  {
   "cell_type": "code",
   "execution_count": null,
   "id": "f5f1babc",
   "metadata": {},
   "outputs": [],
   "source": [
    "import keyword\n",
    "keywords = keyword.kwlist"
   ]
  },
  {
   "cell_type": "code",
   "execution_count": null,
   "id": "88a8fc9b",
   "metadata": {},
   "outputs": [],
   "source": [
    "print(len(keywords))"
   ]
  },
  {
   "cell_type": "code",
   "execution_count": null,
   "id": "2f63fb3e",
   "metadata": {},
   "outputs": [],
   "source": [
    "for keyword in keywords:\n",
    "    print(keyword)"
   ]
  },
  {
   "cell_type": "markdown",
   "id": "7c2f9ddb",
   "metadata": {},
   "source": [
    "# Variables"
   ]
  },
  {
   "cell_type": "markdown",
   "id": "04c24e0e",
   "metadata": {},
   "source": [
    "We do not need to declare variables before using them or declare their type.<br> A variable is created the moment we first assign a value to it. <br> A variable is a name given to a memory location.<br> It is the basic unit of storage in a program.<br>\n",
    "1. The value stored in a variable can be changed during program execution.<br>\n",
    "2. A variable is only a name given to a memory location, all the operations done on the variable effects that memory location."
   ]
  },
  {
   "cell_type": "code",
   "execution_count": null,
   "id": "1d8588a6",
   "metadata": {},
   "outputs": [],
   "source": [
    "# syntax : variable_name = literal_value\n",
    "\n",
    "# An integer assignment\n",
    "age = 45\n",
    "\n",
    "# A floating point\n",
    "salary = 1456.8\n",
    "\n",
    "# A string\n",
    "name = \"John\"\n",
    "\n",
    "print(age)\n",
    "print(salary)\n",
    "print(name)"
   ]
  },
  {
   "cell_type": "code",
   "execution_count": null,
   "id": "81444275",
   "metadata": {},
   "outputs": [],
   "source": []
  }
 ],
 "metadata": {
  "kernelspec": {
   "display_name": "Python 3",
   "language": "python",
   "name": "python3"
  },
  "language_info": {
   "codemirror_mode": {
    "name": "ipython",
    "version": 3
   },
   "file_extension": ".py",
   "mimetype": "text/x-python",
   "name": "python",
   "nbconvert_exporter": "python",
   "pygments_lexer": "ipython3",
   "version": "3.8.8"
  }
 },
 "nbformat": 4,
 "nbformat_minor": 5
}
