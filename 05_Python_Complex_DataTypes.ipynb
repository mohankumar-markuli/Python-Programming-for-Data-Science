{
 "cells": [
  {
   "cell_type": "markdown",
   "id": "e0364154",
   "metadata": {},
   "source": [
    "# Complex Datatype\n",
    "\n",
    "1. string\n",
    "2. list\n",
    "2. tuple\n",
    "3. dictonary\n",
    "4. set"
   ]
  },
  {
   "cell_type": "markdown",
   "id": "f0f38e3a",
   "metadata": {},
   "source": [
    "# Complex Datatype - Strings\n",
    "syntax : stringName = \"String Value\" <br>\n",
    "In python strings are mutable"
   ]
  },
  {
   "cell_type": "code",
   "execution_count": 2,
   "id": "4309910b",
   "metadata": {},
   "outputs": [
    {
     "name": "stdout",
     "output_type": "stream",
     "text": [
      "I love python\n",
      "Hello World\n"
     ]
    }
   ],
   "source": [
    "#string\n",
    "st = \"I love python\"\n",
    "print (st)\n",
    "print(\"Hello World\")"
   ]
  },
  {
   "cell_type": "code",
   "execution_count": 3,
   "id": "9612635a",
   "metadata": {},
   "outputs": [
    {
     "name": "stdout",
     "output_type": "stream",
     "text": [
      "I love python\n",
      "length str1 :  13\n",
      "11\n",
      "length str2 :  11\n",
      "24\n",
      "length str3 :  24\n"
     ]
    }
   ],
   "source": [
    "# string\n",
    "\n",
    "str1 = \"I love python\"\n",
    "print(str1)\n",
    "print(\"length str1 : \", len(str1))\n",
    "\n",
    "str2 = \"Hello world\"\n",
    "print(len(str2))\n",
    "print(\"length str2 : \",len(str2))\n",
    "\n",
    "str3 = str1 + str2\n",
    "print(len(str3))\n",
    "print(\"length str3 : \",len(str3))"
   ]
  },
  {
   "cell_type": "code",
   "execution_count": 4,
   "id": "1ed0526f",
   "metadata": {},
   "outputs": [
    {
     "name": "stdout",
     "output_type": "stream",
     "text": [
      "13\n",
      "I love python\n",
      "love pyt\n",
      "lv y\n",
      " love python\n"
     ]
    }
   ],
   "source": [
    "# string slicing or accing substring\n",
    "# syntax - [start_index : end_index : jumps ]\n",
    "# default jump would be 1\n",
    "\n",
    "str1 = \"I love python\"\n",
    "print(len(str1))\n",
    "print(str1[:])# print complete string\n",
    "\n",
    "print(str1[2:10])#print string from position 2 to 10\n",
    "\n",
    "print(str1[2:10:2]) #print from position 2 to 10 with increment 2 positions\n",
    "\n",
    "print(str1[1:]) #print string from index position 1 to last"
   ]
  },
  {
   "cell_type": "code",
   "execution_count": 5,
   "id": "f0cae4cd",
   "metadata": {},
   "outputs": [
    {
     "name": "stdout",
     "output_type": "stream",
     "text": [
      "I love python\n",
      "h\n",
      "pyt\n"
     ]
    }
   ],
   "source": [
    "#reverse index\n",
    "print(st)\n",
    "print(st[-3]) \n",
    "print(st[-6:-3])"
   ]
  },
  {
   "cell_type": "code",
   "execution_count": 6,
   "id": "ea0d446c",
   "metadata": {},
   "outputs": [
    {
     "name": "stdout",
     "output_type": "stream",
     "text": [
      "htyp ev\n",
      " love pytho\n",
      "nohtyp evol I\n",
      "nhy vlI\n"
     ]
    }
   ],
   "source": [
    "print(str1[10:3:-1]) #print from position 10 to 3 with decrement 1 position\n",
    "\n",
    "print(str1[1:-1]) #print string from index position 1 to last-1\n",
    "\n",
    "print(str1[::-1]) #[start_index : end_index : operation ]\n",
    "\n",
    "print(str1[::-2]) #[start_index : end_index : operation ]"
   ]
  },
  {
   "cell_type": "markdown",
   "id": "fa91e7f2",
   "metadata": {},
   "source": [
    "# Complex Datatype - List\n",
    "list is a collection of data itmes stored under a common name, seperated by comma. <br>\n",
    "The most important characteristic of list is that it is a mutable structure, <br><br>\n",
    "i.e changes can be made by references the list. <br>\n",
    "list is declared or represented by [ ]<br>\n",
    "starting index is zero (0)<br>\n",
    "while sclicing starting index and ending index excluded as [starting index : ending index]<br>"
   ]
  },
  {
   "cell_type": "code",
   "execution_count": 1,
   "id": "4469ff9f",
   "metadata": {},
   "outputs": [
    {
     "name": "stdout",
     "output_type": "stream",
     "text": [
      "[1, 2, 3, 4, 5, 6, 7.5, 8, 9, 10]\n",
      "1\n",
      "[1, 2, 3]\n",
      "[6, 7.5, 8, 9, 10]\n",
      "[2, 3, 4, 5, 6, 7.5]\n",
      "10\n",
      "9\n",
      "[6, 7.5, 8]\n",
      "[10, 9, 8, 7.5, 6, 5, 4, 3, 2]\n"
     ]
    }
   ],
   "source": [
    "a = [1,2,3,4,5,6,7,8,9,10]\n",
    "a = [1,2,3,4,5,6,7.5,8,9,10]     \n",
    "print (a)\n",
    "\n",
    "print(a[0])\n",
    "print(a[:3])\n",
    "print(a[5:])\n",
    "print(a[1:7])\n",
    "\n",
    "print (a[-1])\n",
    "print(a[-2])\n",
    "print(a[-5:-2])\n",
    "print(a[-1:0:-1])"
   ]
  },
  {
   "cell_type": "code",
   "execution_count": 2,
   "id": "e09b0f96",
   "metadata": {},
   "outputs": [
    {
     "name": "stdout",
     "output_type": "stream",
     "text": [
      "[1, 2, 3, 4, 5, 6, 7.5, 8, 9, 10]\n",
      "[1, 2, 3, 4, 5, 101, 7.5, 8, 9, 10]\n"
     ]
    }
   ],
   "source": [
    "#to show list is mutable\n",
    "print(a)\n",
    "a[5] = 101\n",
    "print(a)"
   ]
  },
  {
   "cell_type": "code",
   "execution_count": 3,
   "id": "0e66023d",
   "metadata": {},
   "outputs": [
    {
     "name": "stdout",
     "output_type": "stream",
     "text": [
      "['jadeesh', 'likith', 'vishu', 'vishnu', 'sumanth', 'akash']\n",
      "['jadeesh', 'likith']\n",
      "Ar\n",
      "['jadeesh', 'likith', 'Ramesh', 'vishnu', 'sumanth', 'akash']\n"
     ]
    }
   ],
   "source": [
    "#list of string\n",
    "namelist = ['jadeesh','likith','vishu','vishnu','sumanth','akash']\n",
    "print(namelist)\n",
    "print(namelist[:2])\n",
    "\n",
    "nam = \"Arjun\"\n",
    "print(nam[:2])\n",
    "\n",
    "namelist[2] = 'Ramesh'\n",
    "print (namelist)"
   ]
  },
  {
   "cell_type": "markdown",
   "id": "052bde29",
   "metadata": {},
   "source": [
    "# Complex Datatype - tuple\n",
    "Tuple is a sequence data type that can contain elements seperated by comma of different data types, but these are immutable in nature. <br>\n",
    "it is defined by ()<br>\n",
    "list can have list tuples, vise versa in not possible <br>"
   ]
  },
  {
   "cell_type": "code",
   "execution_count": 5,
   "id": "1d66297b",
   "metadata": {},
   "outputs": [
    {
     "name": "stdout",
     "output_type": "stream",
     "text": [
      "(1, 2, 3, 4, 5, 6, 7, 8, 9, 100)\n"
     ]
    },
    {
     "ename": "TypeError",
     "evalue": "'tuple' object does not support item assignment",
     "output_type": "error",
     "traceback": [
      "\u001b[1;31m---------------------------------------------------------------------------\u001b[0m",
      "\u001b[1;31mTypeError\u001b[0m                                 Traceback (most recent call last)",
      "\u001b[1;32m<ipython-input-5-00a2ba9a0595>\u001b[0m in \u001b[0;36m<module>\u001b[1;34m\u001b[0m\n\u001b[0;32m      3\u001b[0m \u001b[1;33m\u001b[0m\u001b[0m\n\u001b[0;32m      4\u001b[0m \u001b[1;31m#to show tuple is immutable\u001b[0m\u001b[1;33m\u001b[0m\u001b[1;33m\u001b[0m\u001b[1;33m\u001b[0m\u001b[0m\n\u001b[1;32m----> 5\u001b[1;33m \u001b[0mx\u001b[0m\u001b[1;33m[\u001b[0m\u001b[1;36m5\u001b[0m\u001b[1;33m]\u001b[0m \u001b[1;33m=\u001b[0m \u001b[1;36m200\u001b[0m\u001b[1;33m\u001b[0m\u001b[1;33m\u001b[0m\u001b[0m\n\u001b[0m\u001b[0;32m      6\u001b[0m \u001b[0mprint\u001b[0m\u001b[1;33m(\u001b[0m\u001b[0mx\u001b[0m\u001b[1;33m)\u001b[0m\u001b[1;33m\u001b[0m\u001b[1;33m\u001b[0m\u001b[0m\n",
      "\u001b[1;31mTypeError\u001b[0m: 'tuple' object does not support item assignment"
     ]
    }
   ],
   "source": [
    "x = (1,2,3,4,5,6,7,8,9,100)\n",
    "print(x)\n",
    "\n",
    "#to show tuple is immutable\n",
    "x[5] = 200\n",
    "print(x)"
   ]
  },
  {
   "cell_type": "markdown",
   "id": "0f4d9ac4",
   "metadata": {},
   "source": [
    "# Complex Datatype - Dictinory\n",
    "\n",
    "Collection of Key Value Pairs <br>\n",
    "Key Value pairs (KVP) is a set to two linked data items, <br>\n",
    "key is unique identifier val is data which is either the data that is identified or a pointer to the location of that data<br>\n",
    "dictionary is defined with {}<br>\n",
    "dictionaryname = {key:value}<br>"
   ]
  },
  {
   "cell_type": "code",
   "execution_count": 7,
   "id": "e766ce1d",
   "metadata": {},
   "outputs": [
    {
     "name": "stdout",
     "output_type": "stream",
     "text": [
      "{'BE': 2020}\n",
      "{'sslc': 2014, 'puc': 2016, 'BE': 2020}\n"
     ]
    }
   ],
   "source": [
    "qual = {\"BE\":2020}\n",
    "print(qual)\n",
    "\n",
    "qual1 = {\"sslc\" : 2014, \"puc\" : 2016, \"BE\" : 2020}\n",
    "print(qual1)"
   ]
  },
  {
   "cell_type": "code",
   "execution_count": 8,
   "id": "b00fc1d5",
   "metadata": {},
   "outputs": [
    {
     "name": "stdout",
     "output_type": "stream",
     "text": [
      "{'p1': ('tv', 40000, 1), 'p2': ('laptop', 60000, 2), 'p3': ('mobile', 10000, 5)}\n"
     ]
    }
   ],
   "source": [
    "#dictionary and tuple combination\n",
    "\n",
    "plist = {'p1' : ('tv',40000,1),\n",
    "           'p2' : ('laptop',60000,2),\n",
    "            'p3' : ('mobile',10000,5)}\n",
    "                    \n",
    "print(plist)"
   ]
  },
  {
   "cell_type": "markdown",
   "id": "d2988aa0",
   "metadata": {},
   "source": [
    "# Combining Complex Datatypes"
   ]
  },
  {
   "cell_type": "code",
   "execution_count": 10,
   "id": "c5997f3e",
   "metadata": {},
   "outputs": [
    {
     "name": "stdout",
     "output_type": "stream",
     "text": [
      "('p1', 40000, 'laptop', 5)\n",
      "(1000, 100, 500, 450, 1250)\n",
      "[('p1', 40000, 'laptop', 5), ('p2', 45000, 'TV', 2), ('p3', 20000, 'Phone', 10)]\n",
      "('p2', 45000, 'TV', 2)\n"
     ]
    }
   ],
   "source": [
    "#list and tuple combination\n",
    "product = ('p1',40000,'laptop',5)\n",
    "print(product)\n",
    "\n",
    "salary = (1000,100,500,450,1250)\n",
    "print (salary)\n",
    "\n",
    "#list of tuples\n",
    "productlist = [('p1',40000,'laptop',5),\n",
    "              ('p2',45000,'TV',2),\n",
    "              ('p3',20000,'Phone',10)]\n",
    "\n",
    "print(productlist)\n",
    "\n",
    "print(productlist[1])"
   ]
  },
  {
   "cell_type": "code",
   "execution_count": 11,
   "id": "53405bd5",
   "metadata": {},
   "outputs": [
    {
     "name": "stdout",
     "output_type": "stream",
     "text": [
      "{2014: ['cricket', 'kabadhi'], 2015: ['Cricket', 'hockey'], 2016: ['football', 'cricket'], 2017: ['football', 'snooker']}\n"
     ]
    }
   ],
   "source": [
    "#dictionary and list combination\n",
    "\n",
    "glist = {2014 : ['cricket','kabadhi'],\n",
    "         2015 : ['Cricket','hockey'],\n",
    "         2016 : ['football','cricket'],\n",
    "         2017 : ['football','snooker']}\n",
    "print (glist)"
   ]
  },
  {
   "cell_type": "code",
   "execution_count": 12,
   "id": "1441257a",
   "metadata": {},
   "outputs": [
    {
     "name": "stdout",
     "output_type": "stream",
     "text": [
      "{('branch1', 'p1'): [100, 200], ('branch2', 'p1'): [50, 70], ('branch1', 'p2'): [10, 20], ('branch2', 'p2'): [5, 7]}\n",
      "[100, 200]\n"
     ]
    }
   ],
   "source": [
    "#dicitionary, list and tuple combination\n",
    "\n",
    "sales = {('branch1','p1') : [100,200],\n",
    "         ('branch2','p1') : [50,70],\n",
    "         ('branch1','p2') : [10,20],\n",
    "         ('branch2','p2') : [5,7]\n",
    "         }\n",
    "print(sales)\n",
    "print(sales[('branch1','p1')])"
   ]
  },
  {
   "cell_type": "code",
   "execution_count": 13,
   "id": "a9f8812f",
   "metadata": {},
   "outputs": [
    {
     "name": "stdout",
     "output_type": "stream",
     "text": [
      "{'btech': 2000, 'mtech': 2002, 'phd': 2008}\n",
      "2000\n",
      "{'btech': 2000, 'mtech': 2002, 'phd': 2008, 'mba': 2012}\n",
      "2012\n",
      "{'btech': 2000, 'mtech': 2002, 'phd': 2008, 'mba': 2015}\n"
     ]
    }
   ],
   "source": [
    "# working with dictionary\n",
    "q={'btech':2000,'mtech':2002,'phd':2008}\n",
    "print(q)\n",
    "print(q['btech'])\n",
    "\n",
    "q['mba']=2012\n",
    "print(q)\n",
    "print(q['mba'])\n",
    "\n",
    "q['mba']=2015\n",
    "print(q)\n",
    "\n",
    "#if the key already exists in dictionary it will change the value, \n",
    "#else it will add new key with the value"
   ]
  },
  {
   "cell_type": "code",
   "execution_count": null,
   "id": "ac44f18c",
   "metadata": {},
   "outputs": [],
   "source": [
    "acc={101:1000,102:20000,103:5000}\n",
    "print(acc)\n",
    "\n",
    "acc[101]+=2000\n",
    "acc[102]-=5000\n",
    "acc[103]+=2000\n",
    "acc[105]= 8000\n",
    "\n",
    "print(acc)"
   ]
  }
 ],
 "metadata": {
  "kernelspec": {
   "display_name": "Python 3",
   "language": "python",
   "name": "python3"
  },
  "language_info": {
   "codemirror_mode": {
    "name": "ipython",
    "version": 3
   },
   "file_extension": ".py",
   "mimetype": "text/x-python",
   "name": "python",
   "nbconvert_exporter": "python",
   "pygments_lexer": "ipython3",
   "version": "3.8.8"
  }
 },
 "nbformat": 4,
 "nbformat_minor": 5
}
